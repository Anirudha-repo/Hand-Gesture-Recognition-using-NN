{
 "cells": [
  {
   "cell_type": "markdown",
   "id": "b12fc220-21a3-4fd4-8b79-42c1f349b53c",
   "metadata": {},
   "source": [
    "### Importing Libraries"
   ]
  },
  {
   "cell_type": "code",
   "execution_count": 1,
   "id": "803b46b0-8849-4512-90ef-cbed4706801d",
   "metadata": {},
   "outputs": [],
   "source": [
    "import numpy as np \n",
    "import pandas as pd \n",
    "import matplotlib.pyplot as plt\n",
    "import os\n",
    "import cv2\n",
    "import random\n",
    "import tensorflow as tf\n",
    "import seaborn as sns\n",
    "import glob \n",
    "import skimage as oi\n",
    "from tensorflow import keras\n",
    "from tensorflow.math import confusion_matrix\n",
    "from sklearn.metrics import classification_report\n",
    "from tqdm import tqdm\n",
    "from sklearn.model_selection import train_test_split\n",
    "from tensorflow.keras.models import Sequential\n",
    "from tensorflow.keras.layers import Flatten, Dense, LeakyReLU\n",
    "import warnings\n",
    "warnings.filterwarnings(\"ignore\")"
   ]
  },
  {
   "cell_type": "code",
   "execution_count": 2,
   "id": "2cb09910-64fe-4df1-b564-84ee5bd1afe6",
   "metadata": {},
   "outputs": [],
   "source": [
    "np.random.seed(42)"
   ]
  },
  {
   "cell_type": "markdown",
   "id": "24db9500-18d1-4159-9848-e038f7d2d079",
   "metadata": {},
   "source": [
    "### Extracting Data "
   ]
  },
  {
   "cell_type": "code",
   "execution_count": 3,
   "id": "b6d694ec-618a-4b05-9ba2-ddd38b7e8212",
   "metadata": {},
   "outputs": [
    {
     "name": "stdout",
     "output_type": "stream",
     "text": [
      "Files extracted to Extracted data for hand gesture recognition\n"
     ]
    }
   ],
   "source": [
    "import zipfile\n",
    "import os\n",
    "\n",
    "# Define the path to the zip file and the extraction directory\n",
    "zip_file_path = 'data for hand gesture recognition/archive (1).zip'\n",
    "extraction_dir = 'Extracted data for hand gesture recognition'\n",
    "\n",
    "# Create the extraction directory if it doesn't exist\n",
    "os.makedirs(extraction_dir, exist_ok=True)\n",
    "\n",
    "# Extract the zip file\n",
    "with zipfile.ZipFile(zip_file_path, 'r') as zip_ref:\n",
    "    zip_ref.extractall(extraction_dir)\n",
    "\n",
    "print(f\"Files extracted to {extraction_dir}\")\n"
   ]
  },
  {
   "cell_type": "markdown",
   "id": "eb5f0ce1-ccc1-428e-936b-8e3e028607cd",
   "metadata": {},
   "source": [
    "### Loading Data"
   ]
  },
  {
   "cell_type": "code",
   "execution_count": 4,
   "id": "68dab059-346c-415b-84a6-0dd562bd12c7",
   "metadata": {},
   "outputs": [
    {
     "name": "stdout",
     "output_type": "stream",
     "text": [
      "Contents of folder call_me: ['1055.jpg', '1070.jpg', '1086.jpg', '1101.jpg', '1115.jpg', '1129.jpg', '1151.jpg', '1186.jpg', '1233.jpg', '1245.jpg', '1281.jpg', '1293.jpg', '1303.jpg', '1314.jpg', '1327.jpg', '1581.jpg', '1591.jpg', '1603.jpg', '1613.jpg', '1624.jpg', '1634.jpg', '1643.jpg', '1654.jpg', '1671.jpg', '1682.jpg', '1700.jpg', '1711.jpg', '1721.jpg', '1729.jpg', '1737.jpg', '1746.jpg', '1753.jpg', '1760.jpg', '1767.jpg', '1775.jpg', '1782.jpg', '1790.jpg', '1798.jpg', '1803.jpg', '1810.jpg', '1815.jpg', '1819.jpg', '1826.jpg', '1831.jpg', '1837.jpg', '1843.jpg', '1849.jpg', '1856.jpg', '1862.jpg', '1870.jpg', '1877.jpg', '1884.jpg', '1891.jpg', '1899.jpg', '1906.jpg', '1913.jpg', '1921.jpg', '1930.jpg', '1941.jpg', '1948.jpg', '1957.jpg', '1964.jpg', '1972.jpg', '1978.jpg', '1986.jpg', '1993.jpg', '2000.jpg', '2018.jpg', '2026.jpg', '2055.jpg', '2062.jpg', '2068.jpg', '2076.jpg', '2084.jpg', '2167.jpg', '2177.jpg', '2184.jpg', '2195.jpg', '2202.jpg', '2210.jpg', '2217.jpg', '2225.jpg', '2232.jpg', '2239.jpg', '2246.jpg', '2255.jpg', '2262.jpg', '2270.jpg', '2276.jpg', '2282.jpg', '2288.jpg', '2293.jpg', '2300.jpg', '2306.jpg', '2323.jpg', '2361.jpg', '2374.jpg', '2464.jpg', '2471.jpg', '2478.jpg', '2485.jpg', '2491.jpg', '2499.jpg', '2505.jpg', '2516.jpg', '2524.jpg', '2531.jpg', '2548.jpg', '2558.jpg', '2565.jpg', '2574.jpg', '2581.jpg', '2589.jpg', '2599.jpg', '2604.jpg', '2611.jpg', '2616.jpg', '2624.jpg', '2878.jpg', '2898.jpg', '2906.jpg', '2914.jpg', '2919.jpg', '2927.jpg', '2934.jpg', '2941.jpg', '2949.jpg', '2956.jpg', '2963.jpg', '2969.jpg', '2978.jpg', '2984.jpg', '2992.jpg', '2999.jpg', '3008.jpg', '3014.jpg', '3021.jpg', '3029.jpg', '3037.jpg', '3044.jpg', '3052.jpg', '3060.jpg', '3067.jpg', '3075.jpg', '3082.jpg', '3088.jpg', '3095.jpg', '3102.jpg', '3109.jpg', '3116.jpg', '3123.jpg', '3130.jpg', '3138.jpg', '3144.jpg', '3150.jpg', '3164.jpg', '3177.jpg', '3205.jpg', '3213.jpg', '3220.jpg', '3228.jpg', '3238.jpg', '3248.jpg', '3256.jpg', '3286.jpg', '3292.jpg', '3300.jpg', '3307.jpg', '3315.jpg', '3322.jpg', '3331.jpg', '3338.jpg', '3348.jpg', '3359.jpg', '3371.jpg', '3381.jpg', '3390.jpg', '3407.jpg', '3415.jpg', '3426.jpg', '3434.jpg', '3441.jpg', '3449.jpg', '3458.jpg', '3465.jpg', '3473.jpg', '3479.jpg', '3487.jpg', '3494.jpg', '3502.jpg', '3510.jpg', '3519.jpg', '3527.jpg', '3534.jpg', '3542.jpg', '3549.jpg', '3556.jpg', '3563.jpg', '3570.jpg', '3579.jpg', '3585.jpg', '3598.jpg', '3608.jpg', '3617.jpg', '3630.jpg', '3651.jpg', '3658.jpg', '3668.jpg', '3674.jpg', '3682.jpg', '3689.jpg', '3696.jpg', '3704.jpg', '3713.jpg', '3721.jpg', '3729.jpg', '3738.jpg', '3777.jpg', '3784.jpg', '3793.jpg', '3799.jpg', '3806.jpg', '3814.jpg', '3820.jpg', '3830.jpg', '3836.jpg', '3845.jpg', '3855.jpg', '3868.jpg', '3874.jpg', '3882.jpg', '3892.jpg', '3905.jpg', '3914.jpg', '3920.jpg', '3928.jpg', '3944.jpg', '3952.jpg', '396.jpg', '3964.jpg', '3970.jpg', '3977.jpg', '3984.jpg', '3992.jpg', '3999.jpg', '4006.jpg', '4012.jpg', '4020.jpg', '4028.jpg', '4035.jpg', '4043.jpg', '4049.jpg', '4057.jpg', '4066.jpg', '411.jpg', '425.jpg', '4327.jpg', '4335.jpg', '4341.jpg', '4348.jpg', '4355.jpg', '4361.jpg', '4370.jpg', '4377.jpg', '4385.jpg', '4393.jpg', '440.jpg', '4402.jpg', '4409.jpg', '4417.jpg', '4424.jpg', '4431.jpg', '4439.jpg', '4448.jpg', '4455.jpg', '4465.jpg', '4524.jpg', '453.jpg', '4533.jpg', '4539.jpg', '4546.jpg', '4555.jpg', '4562.jpg', '4570.jpg', '4579.jpg', '4585.jpg', '4593.jpg', '4599.jpg', '4605.jpg', '4612.jpg', '4619.jpg', '4627.jpg', '4632.jpg', '4640.jpg', '4647.jpg', '4653.jpg', '4661.jpg', '4667.jpg', '4675.jpg', '4682.jpg', '4688.jpg', '4696.jpg', '4702.jpg', '4709.jpg', '4736.jpg', '4744.jpg', '4752.jpg', '4760.jpg', '4768.jpg', '4774.jpg', '4782.jpg', '4789.jpg', '4794.jpg', '4802.jpg', '4810.jpg', '4817.jpg', '4824.jpg', '4830.jpg', '4837.jpg', '4843.jpg', '4851.jpg', '4857.jpg', '4863.jpg', '4869.jpg', '4878.jpg', '4885.jpg', '4892.jpg', '4898.jpg', '4904.jpg', '4913.jpg', '4941.jpg', '4948.jpg', '4955.jpg', '4962.jpg', '4969.jpg', '4983.jpg', '4984.jpg', '4985.jpg', '4986.jpg', '4988.jpg', '4990.jpg', '4991.jpg', '4992.jpg', '4993.jpg', '4994.jpg', '4995.jpg', '4996.jpg', '4997.jpg', '4998.jpg', '4999.jpg', '5000.jpg', '5001.jpg', '5003.jpg', '5004.jpg', '5005.jpg', '5006.jpg', '5007.jpg', '5008.jpg', '5027.jpg', '5037.jpg', '5043.jpg', '5051.jpg', '5062.jpg', '5068.jpg', '5074.jpg', '5078.jpg', '5085.jpg', '5089.jpg', '5096.jpg', '5103.jpg', '5110.jpg', '5116.jpg', '5123.jpg', '5131.jpg', '5144.jpg', '5148.jpg', '5156.jpg', '5162.jpg', '5169.jpg', '5175.jpg', '5181.jpg', '5186.jpg', '5194.jpg', '5199.jpg', '5207.jpg', '5214.jpg', '5219.jpg', '5227.jpg', '5232.jpg', '5240.jpg', '5246.jpg', '5254.jpg', '5262.jpg', '5268.jpg', '5276.jpg', '5282.jpg', '5291.jpg', '5298.jpg', '5304.jpg', '5313.jpg', '5319.jpg', '5327.jpg', '5334.jpg', '5340.jpg', '5348.jpg', '5355.jpg', '5361.jpg', '5368.jpg', '5375.jpg', '5382.jpg', '5390.jpg', '5396.jpg', '5403.jpg', '5409.jpg', '5414.jpg', '5421.jpg', '5426.jpg', '5433.jpg', '5439.jpg', '5444.jpg', '5450.jpg', '5456.jpg', '5461.jpg', '5467.jpg', '5473.jpg', '5478.jpg', '5486.jpg', '5492.jpg', '5498.jpg', '5505.jpg', '5512.jpg', '5518.jpg', '5524.jpg', '5530.jpg', '5536.jpg', '5543.jpg', '5549.jpg', '5555.jpg', '5561.jpg', '5568.jpg', '5574.jpg', '5580.jpg', '5586.jpg', '5592.jpg', '5598.jpg', '5604.jpg', '5610.jpg', '5615.jpg', '5621.jpg', '5625.jpg', '5633.jpg', '5642.jpg', '5648.jpg', '5654.jpg', '5659.jpg', '5665.jpg', '5671.jpg', '5677.jpg', '5684.jpg', '5689.jpg', '5695.jpg', '5701.jpg', '5707.jpg', '5713.jpg', '5720.jpg', '5727.jpg', '5734.jpg', '5741.jpg', '5746.jpg', '5753.jpg', '5758.jpg', '5764.jpg', '5771.jpg', '5778.jpg', '5783.jpg', '5789.jpg', '5795.jpg', '5802.jpg', '5809.jpg', '5816.jpg', '5824.jpg', '5830.jpg', '5875.jpg', '5882.jpg', '5888.jpg', '5895.jpg', '5901.jpg', '5907.jpg', '5914.jpg', '5921.jpg', '5928.jpg', '5936.jpg', '5943.jpg', '5950.jpg', '5956.jpg', '5964.jpg', '5971.jpg', '5977.jpg', '5985.jpg', '6037.jpg', '6044.jpg', '6050.jpg', '6058.jpg', '6064.jpg', '6070.jpg', '6073.jpg', '6079.jpg', '6084.jpg', '6092.jpg', '6097.jpg', '6106.jpg', '6114.jpg', '6122.jpg', '6130.jpg', '6138.jpg', '6144.jpg', '6152.jpg', '6161.jpg', '6174.jpg', '700.jpg', '768.jpg', '787.jpg', '823.jpg', '882.jpg', '960.jpg', '974.jpg', '988.jpg']\n",
      "Contents of folder fingers_crossed: ['1102.jpg', '1370.jpg', '1386.jpg', '1400.jpg', '1414.jpg', '1444.jpg', '1724.jpg', '1758.jpg', '1771.jpg', '1785.jpg', '1795.jpg', '1804.jpg', '1815.jpg', '1829.jpg', '1840.jpg', '1854.jpg', '1869.jpg', '1880.jpg', '1891.jpg', '1902.jpg', '1913.jpg', '1924.jpg', '1935.jpg', '1945.jpg', '1955.jpg', '1965.jpg', '1978.jpg', '1989.jpg', '1998.jpg', '2008.jpg', '2024.jpg', '2032.jpg', '2042.jpg', '2053.jpg', '2062.jpg', '2073.jpg', '2084.jpg', '2095.jpg', '2105.jpg', '2113.jpg', '2123.jpg', '2133.jpg', '2144.jpg', '2155.jpg', '2165.jpg', '2175.jpg', '2185.jpg', '2195.jpg', '2204.jpg', '2218.jpg', '2228.jpg', '2237.jpg', '2248.jpg', '2267.jpg', '2278.jpg', '2287.jpg', '2298.jpg', '2391.jpg', '2402.jpg', '2410.jpg', '2421.jpg', '2430.jpg', '2441.jpg', '2458.jpg', '2466.jpg', '2476.jpg', '2488.jpg', '2497.jpg', '2506.jpg', '2515.jpg', '2524.jpg', '2535.jpg', '2545.jpg', '2556.jpg', '2565.jpg', '2576.jpg', '2585.jpg', '2594.jpg', '2604.jpg', '2614.jpg', '2623.jpg', '2634.jpg', '2640.jpg', '2651.jpg', '2662.jpg', '2671.jpg', '2680.jpg', '2688.jpg', '2698.jpg', '2708.jpg', '2719.jpg', '2727.jpg', '2737.jpg', '2745.jpg', '2757.jpg', '2764.jpg', '2774.jpg', '2785.jpg', '2794.jpg', '2802.jpg', '2812.jpg', '2821.jpg', '2830.jpg', '2841.jpg', '2850.jpg', '2875.jpg', '2884.jpg', '2893.jpg', '2903.jpg', '2912.jpg', '2921.jpg', '2937.jpg', '2947.jpg', '2954.jpg', '2963.jpg', '2972.jpg', '2983.jpg', '2993.jpg', '3002.jpg', '3013.jpg', '3020.jpg', '3032.jpg', '3043.jpg', '3051.jpg', '3060.jpg', '3072.jpg', '3083.jpg', '3096.jpg', '3105.jpg', '3115.jpg', '3122.jpg', '3131.jpg', '3155.jpg', '3167.jpg', '3198.jpg', '3209.jpg', '3219.jpg', '3230.jpg', '3241.jpg', '3251.jpg', '3261.jpg', '3272.jpg', '3287.jpg', '3295.jpg', '3307.jpg', '3319.jpg', '3333.jpg', '3346.jpg', '3357.jpg', '3369.jpg', '3380.jpg', '3393.jpg', '3401.jpg', '3415.jpg', '3425.jpg', '3437.jpg', '3447.jpg', '3457.jpg', '3467.jpg', '3479.jpg', '3489.jpg', '3501.jpg', '3511.jpg', '3523.jpg', '3537.jpg', '3549.jpg', '3561.jpg', '3573.jpg', '3582.jpg', '3597.jpg', '3609.jpg', '3619.jpg', '3629.jpg', '3641.jpg', '3653.jpg', '3663.jpg', '3677.jpg', '3687.jpg', '3697.jpg', '3709.jpg', '3719.jpg', '3729.jpg', '3741.jpg', '3765.jpg', '3826.jpg', '3853.jpg', '3863.jpg', '3875.jpg', '3887.jpg', '3898.jpg', '3911.jpg', '3925.jpg', '3935.jpg', '3946.jpg', '3959.jpg', '3974.jpg', '3984.jpg', '3995.jpg', '4006.jpg', '4026.jpg', '4036.jpg', '4048.jpg', '4058.jpg', '4094.jpg', '4450.jpg', '4460.jpg', '4474.jpg', '4489.jpg', '4500.jpg', '4512.jpg', '4524.jpg', '4536.jpg', '4548.jpg', '4559.jpg', '4572.jpg', '4582.jpg', '4592.jpg', '4602.jpg', '4614.jpg', '4626.jpg', '4636.jpg', '4645.jpg', '4654.jpg', '4664.jpg', '4676.jpg', '4686.jpg', '4695.jpg', '4708.jpg', '4715.jpg', '4725.jpg', '4735.jpg', '4745.jpg', '4752.jpg', '4763.jpg', '4772.jpg', '4782.jpg', '4793.jpg', '4804.jpg', '4814.jpg', '4824.jpg', '4834.jpg', '4842.jpg', '4852.jpg', '4860.jpg', '4870.jpg', '4878.jpg', '4886.jpg', '4896.jpg', '4906.jpg', '4916.jpg', '4925.jpg', '5418.jpg', '5428.jpg', '5435.jpg', '5446.jpg', '5457.jpg', '5474.jpg', '5486.jpg', '5497.jpg', '5506.jpg', '5516.jpg', '5527.jpg', '5534.jpg', '5543.jpg', '5553.jpg', '5563.jpg', '5573.jpg', '5580.jpg', '5594.jpg', '5602.jpg', '5612.jpg', '5624.jpg', '5633.jpg', '5684.jpg', '5694.jpg', '5702.jpg', '5712.jpg', '5721.jpg', '5730.jpg', '5739.jpg', '5748.jpg', '5757.jpg', '5768.jpg', '5776.jpg', '5785.jpg', '5796.jpg', '5807.jpg', '5816.jpg', '5824.jpg', '5836.jpg', '5846.jpg', '5855.jpg', '5864.jpg', '5871.jpg', '5882.jpg', '5895.jpg', '5902.jpg', '5915.jpg', '5924.jpg', '5933.jpg', '5943.jpg', '5951.jpg', '5960.jpg', '5970.jpg', '5978.jpg', '5990.jpg', '5998.jpg', '6012.jpg', '6014.jpg', '6015.jpg', '6016.jpg', '6017.jpg', '6018.jpg', '6020.jpg', '6021.jpg', '6022.jpg', '6025.jpg', '6027.jpg', '6029.jpg', '6030.jpg', '6031.jpg', '6032.jpg', '6034.jpg', '6035.jpg', '6036.jpg', '6038.jpg', '6039.jpg', '6040.jpg', '6043.jpg', '6060.jpg', '6069.jpg', '6078.jpg', '6086.jpg', '6096.jpg', '6106.jpg', '6115.jpg', '6124.jpg', '6133.jpg', '6143.jpg', '6153.jpg', '6163.jpg', '6172.jpg', '6181.jpg', '6188.jpg', '6198.jpg', '6208.jpg', '6218.jpg', '6227.jpg', '6236.jpg', '6243.jpg', '6252.jpg', '6262.jpg', '6270.jpg', '6278.jpg', '6285.jpg', '6295.jpg', '6304.jpg', '6311.jpg', '6320.jpg', '6328.jpg', '6336.jpg', '6344.jpg', '6354.jpg', '6363.jpg', '6371.jpg', '6380.jpg', '6388.jpg', '6396.jpg', '6405.jpg', '6415.jpg', '6422.jpg', '6432.jpg', '6440.jpg', '6448.jpg', '6456.jpg', '6465.jpg', '6474.jpg', '6483.jpg', '6492.jpg', '6501.jpg', '6508.jpg', '6517.jpg', '6525.jpg', '6534.jpg', '6540.jpg', '6549.jpg', '6558.jpg', '6565.jpg', '6573.jpg', '6580.jpg', '6590.jpg', '6598.jpg', '6608.jpg', '6617.jpg', '6624.jpg', '6632.jpg', '6640.jpg', '6648.jpg', '6657.jpg', '6664.jpg', '6673.jpg', '6681.jpg', '6687.jpg', '6695.jpg', '6701.jpg', '6705.jpg', '6712.jpg', '6719.jpg', '6726.jpg', '6732.jpg', '6739.jpg', '6745.jpg', '6751.jpg', '6757.jpg', '6763.jpg', '6774.jpg', '6779.jpg', '6785.jpg', '6791.jpg', '6796.jpg', '6800.jpg', '6804.jpg', '6809.jpg', '6814.jpg', '6818.jpg', '6823.jpg', '6828.jpg', '6832.jpg', '6837.jpg', '6840.jpg', '6852.jpg', '6858.jpg', '6862.jpg', '6868.jpg', '6874.jpg', '6877.jpg', '6882.jpg', '6888.jpg', '6894.jpg', '6898.jpg', '6906.jpg', '6912.jpg', '6917.jpg', '6922.jpg', '6927.jpg', '6933.jpg', '6940.jpg', '6945.jpg', '6951.jpg', '6958.jpg', '6964.jpg', '6970.jpg', '6976.jpg', '6982.jpg', '6988.jpg', '6994.jpg', '7000.jpg', '7006.jpg', '7014.jpg', '7021.jpg', '7029.jpg', '7035.jpg', '7042.jpg', '7048.jpg', '7054.jpg', '7061.jpg', '7068.jpg', '7074.jpg', '7080.jpg', '7086.jpg', '7092.jpg', '7098.jpg', '7105.jpg', '7114.jpg', '7120.jpg', '7128.jpg', '7134.jpg', '7140.jpg', '7148.jpg', '7156.jpg', '7161.jpg', '7168.jpg', '7175.jpg', '7183.jpg', '7192.jpg', '7199.jpg', '7209.jpg', '7215.jpg', '7223.jpg', '7231.jpg', '7237.jpg', '7245.jpg', '7251.jpg', '7257.jpg', '7263.jpg', '7269.jpg', '7281.jpg', '7287.jpg', '7293.jpg', '7300.jpg', '7309.jpg', '7315.jpg', '7324.jpg', '7331.jpg']\n",
      "Contents of folder okay: ['1061.jpg', '1084.jpg', '1266.jpg', '1281.jpg', '1297.jpg', '1310.jpg', '1324.jpg', '1336.jpg', '1348.jpg', '1361.jpg', '1373.jpg', '1413.jpg', '1425.jpg', '1436.jpg', '1442.jpg', '1449.jpg', '1461.jpg', '1468.jpg', '1473.jpg', '1486.jpg', '1494.jpg', '1500.jpg', '1513.jpg', '1525.jpg', '1528.jpg', '1538.jpg', '1549.jpg', '1550.jpg', '1563.jpg', '1569.jpg', '1577.jpg', '1588.jpg', '1589.jpg', '1603.jpg', '1605.jpg', '1623.jpg', '1634.jpg', '1646.jpg', '1658.jpg', '1671.jpg', '1684.jpg', '1698.jpg', '1713.jpg', '1726.jpg', '1738.jpg', '1749.jpg', '1760.jpg', '1774.jpg', '1785.jpg', '1797.jpg', '1807.jpg', '1815.jpg', '1831.jpg', '1844.jpg', '1851.jpg', '1857.jpg', '1868.jpg', '1870.jpg', '1882.jpg', '1887.jpg', '1894.jpg', '1903.jpg', '1906.jpg', '1920.jpg', '1922.jpg', '1933.jpg', '1936.jpg', '1945.jpg', '1957.jpg', '1958.jpg', '1970.jpg', '1983.jpg', '1996.jpg', '2002.jpg', '2010.jpg', '2022.jpg', '2036.jpg', '2047.jpg', '2060.jpg', '2066.jpg', '2076.jpg', '2089.jpg', '2101.jpg', '2112.jpg', '2123.jpg', '2134.jpg', '2143.jpg', '2148.jpg', '2159.jpg', '2175.jpg', '2178.jpg', '2190.jpg', '2206.jpg', '2218.jpg', '2233.jpg', '2254.jpg', '2255.jpg', '2270.jpg', '2273.jpg', '2282.jpg', '2286.jpg', '2295.jpg', '2299.jpg', '2307.jpg', '2311.jpg', '2320.jpg', '2322.jpg', '2332.jpg', '2333.jpg', '2342.jpg', '2351.jpg', '2354.jpg', '2363.jpg', '2364.jpg', '2374.jpg', '2377.jpg', '2384.jpg', '2393.jpg', '2394.jpg', '2402.jpg', '2412.jpg', '2420.jpg', '2422.jpg', '2433.jpg', '2437.jpg', '2451.jpg', '2466.jpg', '2480.jpg', '2496.jpg', '2509.jpg', '2522.jpg', '2534.jpg', '2549.jpg', '2561.jpg', '2574.jpg', '2587.jpg', '2601.jpg', '2613.jpg', '2627.jpg', '2640.jpg', '2658.jpg', '2670.jpg', '2683.jpg', '2699.jpg', '2713.jpg', '2727.jpg', '2741.jpg', '2754.jpg', '2768.jpg', '2781.jpg', '2792.jpg', '2806.jpg', '2818.jpg', '2833.jpg', '2848.jpg', '2864.jpg', '2878.jpg', '2898.jpg', '2914.jpg', '2926.jpg', '2988.jpg', '3095.jpg', '3108.jpg', '3122.jpg', '3138.jpg', '3151.jpg', '3163.jpg', '3176.jpg', '3189.jpg', '3203.jpg', '3222.jpg', '3243.jpg', '3259.jpg', '3274.jpg', '3287.jpg', '3326.jpg', '3420.jpg', '3434.jpg', '3446.jpg', '3460.jpg', '3472.jpg', '3485.jpg', '3495.jpg', '3498.jpg', '3510.jpg', '3512.jpg', '3527.jpg', '3543.jpg', '3548.jpg', '3555.jpg', '3561.jpg', '3569.jpg', '3580.jpg', '3585.jpg', '3592.jpg', '3602.jpg', '3604.jpg', '3620.jpg', '3621.jpg', '3633.jpg', '3646.jpg', '3661.jpg', '3662.jpg', '3674.jpg', '3675.jpg', '3686.jpg', '3687.jpg', '3699.jpg', '3708.jpg', '3711.jpg', '3720.jpg', '3722.jpg', '3734.jpg', '3735.jpg', '3755.jpg', '3766.jpg', '3769.jpg', '3777.jpg', '3781.jpg', '3784.jpg', '3794.jpg', '3795.jpg', '3806.jpg', '3807.jpg', '3817.jpg', '3821.jpg', '3829.jpg', '3833.jpg', '3839.jpg', '3849.jpg', '3850.jpg', '3859.jpg', '3864.jpg', '3870.jpg', '3878.jpg', '3881.jpg', '3891.jpg', '3892.jpg', '3902.jpg', '3903.jpg', '3913.jpg', '3916.jpg', '3922.jpg', '3929.jpg', '3936.jpg', '3941.jpg', '3954.jpg', '3971.jpg', '3977.jpg', '3990.jpg', '4002.jpg', '4015.jpg', '4016.jpg', '4029.jpg', '4045.jpg', '4057.jpg', '4066.jpg', '4079.jpg', '4092.jpg', '4106.jpg', '4118.jpg', '4131.jpg', '4144.jpg', '4159.jpg', '4172.jpg', '4185.jpg', '4200.jpg', '4213.jpg', '4226.jpg', '4227.jpg', '4237.jpg', '4238.jpg', '4247.jpg', '4252.jpg', '4259.jpg', '4270.jpg', '4272.jpg', '4281.jpg', '4294.jpg', '4305.jpg', '4316.jpg', '4325.jpg', '4338.jpg', '4349.jpg', '4576.jpg', '4591.jpg', '4600.jpg', '4609.jpg', '4695.jpg', '4706.jpg', '4715.jpg', '4726.jpg', '4758.jpg', '4769.jpg', '4781.jpg', '4791.jpg', '4802.jpg', '4814.jpg', '4825.jpg', '4837.jpg', '4847.jpg', '4858.jpg', '4869.jpg', '4923.jpg', '4956.jpg', '4969.jpg', '4982.jpg', '4995.jpg', '5007.jpg', '5022.jpg', '5034.jpg', '5047.jpg', '5059.jpg', '5070.jpg', '5083.jpg', '5094.jpg', '5099.jpg', '5106.jpg', '5112.jpg', '5117.jpg', '5124.jpg', '5127.jpg', '5135.jpg', '5139.jpg', '5146.jpg', '5151.jpg', '5156.jpg', '5164.jpg', '5175.jpg', '5189.jpg', '5194.jpg', '5205.jpg', '5216.jpg', '5227.jpg', '5259.jpg', '5271.jpg', '5281.jpg', '5292.jpg', '5304.jpg', '5314.jpg', '5327.jpg', '5339.jpg', '5352.jpg', '5365.jpg', '5376.jpg', '5389.jpg', '5400.jpg', '5405.jpg', '5413.jpg', '5417.jpg', '5424.jpg', '5431.jpg', '5433.jpg', '5443.jpg', '5444.jpg', '5455.jpg', '5457.jpg', '5470.jpg', '5471.jpg', '5481.jpg', '5484.jpg', '5497.jpg', '5499.jpg', '5508.jpg', '5510.jpg', '5519.jpg', '5521.jpg', '5532.jpg', '5533.jpg', '5543.jpg', '5547.jpg', '5554.jpg', '5564.jpg', '5576.jpg', '5589.jpg', '5603.jpg', '5615.jpg', '5628.jpg', '5637.jpg', '5648.jpg', '5659.jpg', '5667.jpg', '5679.jpg', '5690.jpg', '5703.jpg', '5714.jpg', '5725.jpg', '5735.jpg', '5744.jpg', '5757.jpg', '5768.jpg', '5780.jpg', '5793.jpg', '5804.jpg', '5815.jpg', '5826.jpg', '5839.jpg', '5848.jpg', '5859.jpg', '5868.jpg', '5880.jpg', '5891.jpg', '5902.jpg', '5912.jpg', '5923.jpg', '5934.jpg', '5945.jpg', '5956.jpg', '596.jpg', '5968.jpg', '5978.jpg', '5988.jpg', '5997.jpg', '6010.jpg', '6021.jpg', '6033.jpg', '6044.jpg', '6055.jpg', '6066.jpg', '6078.jpg', '6090.jpg', '6100.jpg', '6112.jpg', '6121.jpg', '6132.jpg', '6142.jpg', '6152.jpg', '6163.jpg', '6174.jpg', '618.jpg', '6183.jpg', '6194.jpg', '6203.jpg', '6212.jpg', '6222.jpg', '6232.jpg', '6245.jpg', '6254.jpg', '6262.jpg', '6273.jpg', '6280.jpg', '6290.jpg', '6301.jpg', '6313.jpg', '6325.jpg', '6365.jpg', '6377.jpg', '6389.jpg', '6398.jpg', '6409.jpg', '6421.jpg', '6435.jpg', '6443.jpg', '6453.jpg', '6467.jpg', '6479.jpg', '6489.jpg', '6490.jpg', '6501.jpg', '6513.jpg', '6525.jpg', '6535.jpg', '6547.jpg', '6558.jpg', '6569.jpg', '6597.jpg', '6607.jpg', '6617.jpg', '6631.jpg', '6642.jpg', '6652.jpg', '6662.jpg', '6674.jpg', '6685.jpg', '6697.jpg', '6707.jpg', '6719.jpg', '6730.jpg', '6741.jpg', '6753.jpg', '6764.jpg', '6775.jpg', '6787.jpg', '6797.jpg', '6809.jpg', '6822.jpg', '6833.jpg', '6847.jpg', '6857.jpg', '6871.jpg', '6883.jpg', '6894.jpg', '6909.jpg', '7126.jpg', '7166.jpg', '7196.jpg', '7208.jpg', '7222.jpg', '7233.jpg', '7246.jpg', '7262.jpg', '7274.jpg', '7288.jpg', '7302.jpg', '7318.jpg', '7331.jpg', '7344.jpg', '7360.jpg', '737.jpg', '7375.jpg', '7388.jpg', '7402.jpg', '7414.jpg', '7428.jpg', '7442.jpg', '7456.jpg', '7470.jpg', '7484.jpg', '7498.jpg', '7534.jpg', '7549.jpg', '7564.jpg', '757.jpg', '7575.jpg', '7588.jpg', '7605.jpg', '7618.jpg', '7634.jpg', '7646.jpg', '7658.jpg', '7672.jpg', '7686.jpg', '782.jpg', '802.jpg', '820.jpg', '842.jpg', '864.jpg', '884.jpg', '901.jpg', '954.jpg']\n",
      "Contents of folder paper: ['1009.jpg', '1010.jpg', '1020.jpg', '1026.jpg', '1027.jpg', '1031.jpg', '1040.jpg', '1043.jpg', '1044.jpg', '1051.jpg', '1057.jpg', '1062.jpg', '1067.jpg', '1071.jpg', '1082.jpg', '1083.jpg', '1094.jpg', '1114.jpg', '1115.jpg', '1123.jpg', '1125.jpg', '1135.jpg', '1136.jpg', '1147.jpg', '1149.jpg', '1157.jpg', '1161.jpg', '1166.jpg', '1172.jpg', '1177.jpg', '1183.jpg', '1184.jpg', '1188.jpg', '1196.jpg', '1198.jpg', '1199.jpg', '1210.jpg', '1212.jpg', '1221.jpg', '1225.jpg', '1231.jpg', '1240.jpg', '1241.jpg', '125.jpg', '1251.jpg', '1256.jpg', '1261.jpg', '1264.jpg', '1272.jpg', '1276.jpg', '1284.jpg', '1288.jpg', '1289.jpg', '1293.jpg', '1303.jpg', '1314.jpg', '1318.jpg', '1322.jpg', '1329.jpg', '1333.jpg', '1342.jpg', '1343.jpg', '1353.jpg', '1355.jpg', '1363.jpg', '1365.jpg', '1369.jpg', '1373.jpg', '1384.jpg', '1387.jpg', '139.jpg', '1394.jpg', '1395.jpg', '1401.jpg', '1404.jpg', '1407.jpg', '1414.jpg', '1415.jpg', '1425.jpg', '1430.jpg', '1432.jpg', '1434.jpg', '1443.jpg', '1453.jpg', '1456.jpg', '1457.jpg', '1463.jpg', '1473.jpg', '1474.jpg', '1482.jpg', '1493.jpg', '150.jpg', '1504.jpg', '1527.jpg', '1542.jpg', '1560.jpg', '1580.jpg', '1593.jpg', '1605.jpg', '1608.jpg', '1617.jpg', '162.jpg', '1625.jpg', '1629.jpg', '1638.jpg', '1640.jpg', '1651.jpg', '1652.jpg', '1664.jpg', '1678.jpg', '1692.jpg', '1693.jpg', '1705.jpg', '1709.jpg', '1716.jpg', '1729.jpg', '1741.jpg', '1749.jpg', '175.jpg', '1755.jpg', '1767.jpg', '1779.jpg', '1792.jpg', '1805.jpg', '1818.jpg', '1830.jpg', '1838.jpg', '1842.jpg', '1853.jpg', '1865.jpg', '1866.jpg', '1876.jpg', '1879.jpg', '1888.jpg', '1891.jpg', '1902.jpg', '191.jpg', '1914.jpg', '1927.jpg', '1936.jpg', '1942.jpg', '1954.jpg', '1966.jpg', '198.jpg', '1981.jpg', '199.jpg', '1994.jpg', '2008.jpg', '2022.jpg', '2051.jpg', '206.jpg', '2067.jpg', '2092.jpg', '2106.jpg', '2118.jpg', '213.jpg', '2133.jpg', '2145.jpg', '2159.jpg', '216.jpg', '2175.jpg', '2198.jpg', '220.jpg', '2216.jpg', '2238.jpg', '2256.jpg', '226.jpg', '2272.jpg', '230.jpg', '2306.jpg', '2328.jpg', '2350.jpg', '2364.jpg', '2378.jpg', '2396.jpg', '240.jpg', '2411.jpg', '2425.jpg', '244.jpg', '2459.jpg', '254.jpg', '256.jpg', '263.jpg', '266.jpg', '268.jpg', '271.jpg', '2713.jpg', '2723.jpg', '2735.jpg', '274.jpg', '2749.jpg', '2761.jpg', '2773.jpg', '2784.jpg', '2796.jpg', '2808.jpg', '281.jpg', '2821.jpg', '2832.jpg', '284.jpg', '2844.jpg', '2856.jpg', '286.jpg', '2868.jpg', '2879.jpg', '2890.jpg', '2901.jpg', '291.jpg', '2914.jpg', '2926.jpg', '293.jpg', '2937.jpg', '2948.jpg', '2958.jpg', '296.jpg', '2971.jpg', '298.jpg', '2982.jpg', '2994.jpg', '3005.jpg', '3018.jpg', '3029.jpg', '3041.jpg', '3053.jpg', '3063.jpg', '3075.jpg', '308.jpg', '3086.jpg', '309.jpg', '3099.jpg', '3109.jpg', '3121.jpg', '3133.jpg', '3144.jpg', '3154.jpg', '3166.jpg', '3177.jpg', '318.jpg', '3189.jpg', '320.jpg', '3200.jpg', '321.jpg', '3212.jpg', '322.jpg', '3225.jpg', '3237.jpg', '3248.jpg', '3258.jpg', '3271.jpg', '3283.jpg', '3293.jpg', '330.jpg', '3304.jpg', '3313.jpg', '332.jpg', '3325.jpg', '3334.jpg', '334.jpg', '3346.jpg', '3357.jpg', '3368.jpg', '3380.jpg', '3392.jpg', '340.jpg', '3401.jpg', '341.jpg', '3412.jpg', '3423.jpg', '3434.jpg', '3445.jpg', '3455.jpg', '3466.jpg', '3477.jpg', '348.jpg', '3487.jpg', '3498.jpg', '3509.jpg', '351.jpg', '352.jpg', '3521.jpg', '3532.jpg', '3541.jpg', '3553.jpg', '3565.jpg', '357.jpg', '3577.jpg', '3588.jpg', '3599.jpg', '361.jpg', '3611.jpg', '3621.jpg', '3633.jpg', '3645.jpg', '3657.jpg', '367.jpg', '3670.jpg', '368.jpg', '3682.jpg', '3694.jpg', '370.jpg', '3707.jpg', '3718.jpg', '3730.jpg', '3742.jpg', '3756.jpg', '3767.jpg', '3779.jpg', '379.jpg', '3791.jpg', '380.jpg', '3803.jpg', '3814.jpg', '3825.jpg', '383.jpg', '3835.jpg', '3848.jpg', '3860.jpg', '3873.jpg', '388.jpg', '3884.jpg', '3892.jpg', '3902.jpg', '3913.jpg', '392.jpg', '3924.jpg', '3934.jpg', '3945.jpg', '3957.jpg', '396.jpg', '3967.jpg', '3978.jpg', '3989.jpg', '4001.jpg', '4009.jpg', '4021.jpg', '403.jpg', '4031.jpg', '4043.jpg', '4053.jpg', '406.jpg', '4065.jpg', '4074.jpg', '4085.jpg', '4096.jpg', '410.jpg', '4107.jpg', '4120.jpg', '4121.jpg', '4130.jpg', '4141.jpg', '4152.jpg', '4164.jpg', '4173.jpg', '418.jpg', '4183.jpg', '4193.jpg', '4204.jpg', '4213.jpg', '4225.jpg', '423.jpg', '4236.jpg', '424.jpg', '4247.jpg', '4258.jpg', '4269.jpg', '4280.jpg', '4291.jpg', '4301.jpg', '431.jpg', '4311.jpg', '4323.jpg', '4333.jpg', '4340.jpg', '435.jpg', '4352.jpg', '4363.jpg', '4375.jpg', '4384.jpg', '4396.jpg', '4407.jpg', '4419.jpg', '4428.jpg', '4439.jpg', '444.jpg', '4450.jpg', '4458.jpg', '4469.jpg', '448.jpg', '4481.jpg', '4489.jpg', '4500.jpg', '4510.jpg', '4518.jpg', '4528.jpg', '4539.jpg', '4550.jpg', '4558.jpg', '456.jpg', '4570.jpg', '4582.jpg', '460.jpg', '462.jpg', '4623.jpg', '4636.jpg', '4646.jpg', '4657.jpg', '4669.jpg', '4680.jpg', '470.jpg', '473.jpg', '477.jpg', '478.jpg', '482.jpg', '489.jpg', '491.jpg', '493.jpg', '501.jpg', '503.jpg', '506.jpg', '509.jpg', '514.jpg', '517.jpg', '518.jpg', '526.jpg', '527.jpg', '529.jpg', '530.jpg', '537.jpg', '538.jpg', '544.jpg', '545.jpg', '548.jpg', '550.jpg', '556.jpg', '558.jpg', '559.jpg', '560.jpg', '570.jpg', '572.jpg', '573.jpg', '574.jpg', '583.jpg', '584.jpg', '586.jpg', '588.jpg', '595.jpg', '597.jpg', '603.jpg', '606.jpg', '608.jpg', '612.jpg', '617.jpg', '618.jpg', '626.jpg', '628.jpg', '629.jpg', '631.jpg', '636.jpg', '640.jpg', '641.jpg', '646.jpg', '647.jpg', '651.jpg', '654.jpg', '660.jpg', '662.jpg', '667.jpg', '668.jpg', '670.jpg', '671.jpg', '679.jpg', '681.jpg', '684.jpg', '687.jpg', '692.jpg', '695.jpg', '698.jpg', '704.jpg', '709.jpg', '711.jpg', '713.jpg', '714.jpg', '724.jpg', '725.jpg', '726.jpg', '735.jpg', '740.jpg', '743.jpg', '746.jpg', '754.jpg', '757.jpg', '761.jpg', '768.jpg', '770.jpg', '774.jpg', '778.jpg', '782.jpg', '786.jpg', '787.jpg', '789.jpg', '795.jpg', '796.jpg', '798.jpg', '803.jpg', '807.jpg', '808.jpg', '818.jpg', '819.jpg', '829.jpg', '831.jpg', '839.jpg', '844.jpg', '850.jpg', '853.jpg', '857.jpg', '861.jpg', '869.jpg', '871.jpg', '882.jpg', '883.jpg', '885.jpg', '892.jpg', '893.jpg', '903.jpg', '904.jpg', '914.jpg', '920.jpg', '925.jpg', '934.jpg', '936.jpg', '946.jpg', '951.jpg', '958.jpg', '965.jpg', '970.jpg', '979.jpg', '990.jpg', '995.jpg', '999.jpg']\n",
      "Contents of folder peace: ['1006.jpg', '1012.jpg', '10144.jpg', '1015.jpg', '10160.jpg', '1017.jpg', '10173.jpg', '10187.jpg', '10206.jpg', '10220.jpg', '1023.jpg', '10237.jpg', '1024.jpg', '10255.jpg', '10268.jpg', '10279.jpg', '10293.jpg', '1030.jpg', '10305.jpg', '10320.jpg', '10332.jpg', '10347.jpg', '1035.jpg', '1036.jpg', '10360.jpg', '10374.jpg', '10390.jpg', '1040.jpg', '10406.jpg', '10422.jpg', '10436.jpg', '1045.jpg', '10451.jpg', '10464.jpg', '10480.jpg', '1049.jpg', '10495.jpg', '10507.jpg', '10521.jpg', '10533.jpg', '10546.jpg', '1057.jpg', '1062.jpg', '1066.jpg', '1069.jpg', '1074.jpg', '1084.jpg', '1086.jpg', '1094.jpg', '1095.jpg', '1105.jpg', '1106.jpg', '1116.jpg', '1119.jpg', '1126.jpg', '1135.jpg', '1136.jpg', '1146.jpg', '1150.jpg', '1157.jpg', '1158.jpg', '1167.jpg', '1172.jpg', '1177.jpg', '1183.jpg', '1188.jpg', '1197.jpg', '1198.jpg', '1203.jpg', '1207.jpg', '1209.jpg', '1219.jpg', '1223.jpg', '1228.jpg', '1233.jpg', '1236.jpg', '1239.jpg', '1248.jpg', '1249.jpg', '1257.jpg', '1258.jpg', '1259.jpg', '1269.jpg', '1270.jpg', '1274.jpg', '1276.jpg', '1281.jpg', '1282.jpg', '1287.jpg', '1294.jpg', '1297.jpg', '1298.jpg', '1306.jpg', '1307.jpg', '1311.jpg', '1317.jpg', '1318.jpg', '1324.jpg', '1325.jpg', '1328.jpg', '1329.jpg', '1335.jpg', '1336.jpg', '1341.jpg', '1344.jpg', '1346.jpg', '1349.jpg', '1353.jpg', '1355.jpg', '1359.jpg', '1363.jpg', '1364.jpg', '1372.jpg', '1376.jpg', '1382.jpg', '1386.jpg', '1389.jpg', '1391.jpg', '1398.jpg', '1400.jpg', '1401.jpg', '1410.jpg', '1411.jpg', '1416.jpg', '1419.jpg', '1422.jpg', '1428.jpg', '1430.jpg', '1434.jpg', '1436.jpg', '1445.jpg', '1446.jpg', '1447.jpg', '1456.jpg', '1457.jpg', '1464.jpg', '1465.jpg', '1466.jpg', '1475.jpg', '1478.jpg', '1484.jpg', '1490.jpg', '1494.jpg', '1501.jpg', '1504.jpg', '1510.jpg', '1512.jpg', '1516.jpg', '1524.jpg', '1525.jpg', '1533.jpg', '1535.jpg', '1536.jpg', '1547.jpg', '1550.jpg', '1557.jpg', '1558.jpg', '1570.jpg', '1582.jpg', '1593.jpg', '1598.jpg', '1604.jpg', '1613.jpg', '1614.jpg', '1624.jpg', '1627.jpg', '1637.jpg', '1641.jpg', '1648.jpg', '1655.jpg', '1660.jpg', '1662.jpg', '1667.jpg', '1671.jpg', '1680.jpg', '1682.jpg', '1691.jpg', '1694.jpg', '1702.jpg', '1703.jpg', '1709.jpg', '1714.jpg', '1720.jpg', '1722.jpg', '1727.jpg', '1733.jpg', '1737.jpg', '1746.jpg', '1749.jpg', '1758.jpg', '1759.jpg', '1762.jpg', '1772.jpg', '1773.jpg', '1782.jpg', '1785.jpg', '1792.jpg', '1797.jpg', '1801.jpg', '1807.jpg', '1810.jpg', '1814.jpg', '1820.jpg', '1822.jpg', '1830.jpg', '1831.jpg', '1832.jpg', '1840.jpg', '1841.jpg', '1844.jpg', '1850.jpg', '1858.jpg', '1860.jpg', '1869.jpg', '1871.jpg', '1880.jpg', '1882.jpg', '1891.jpg', '1902.jpg', '1912.jpg', '1914.jpg', '1924.jpg', '1928.jpg', '1934.jpg', '1940.jpg', '1946.jpg', '1958.jpg', '1959.jpg', '1970.jpg', '1971.jpg', '1981.jpg', '1990.jpg', '1995.jpg', '2000.jpg', '2007.jpg', '2010.jpg', '2017.jpg', '2021.jpg', '2030.jpg', '2032.jpg', '2040.jpg', '2043.jpg', '2050.jpg', '2054.jpg', '2060.jpg', '2068.jpg', '2070.jpg', '2081.jpg', '2095.jpg', '212.jpg', '2136.jpg', '2150.jpg', '2163.jpg', '2175.jpg', '2187.jpg', '2199.jpg', '2214.jpg', '2230.jpg', '2245.jpg', '2255.jpg', '2268.jpg', '2281.jpg', '2296.jpg', '230.jpg', '2307.jpg', '2321.jpg', '2347.jpg', '2369.jpg', '238.jpg', '239.jpg', '242.jpg', '2440.jpg', '2455.jpg', '2469.jpg', '2483.jpg', '2494.jpg', '250.jpg', '2506.jpg', '2516.jpg', '252.jpg', '2529.jpg', '254.jpg', '2540.jpg', '2552.jpg', '256.jpg', '2564.jpg', '2576.jpg', '2588.jpg', '2600.jpg', '2615.jpg', '2627.jpg', '2638.jpg', '264.jpg', '2648.jpg', '2662.jpg', '2671.jpg', '268.jpg', '2682.jpg', '2694.jpg', '270.jpg', '2706.jpg', '271.jpg', '2719.jpg', '272.jpg', '2731.jpg', '274.jpg', '2753.jpg', '2765.jpg', '277.jpg', '2777.jpg', '278.jpg', '2789.jpg', '2801.jpg', '2815.jpg', '282.jpg', '2826.jpg', '283.jpg', '284.jpg', '2840.jpg', '295.jpg', '296.jpg', '298.jpg', '306.jpg', '310.jpg', '311.jpg', '317.jpg', '320.jpg', '323.jpg', '327.jpg', '335.jpg', '337.jpg', '338.jpg', '347.jpg', '348.jpg', '350.jpg', '351.jpg', '361.jpg', '364.jpg', '365.jpg', '372.jpg', '374.jpg', '380.jpg', '383.jpg', '384.jpg', '387.jpg', '394.jpg', '395.jpg', '402.jpg', '403.jpg', '412.jpg', '413.jpg', '416.jpg', '422.jpg', '424.jpg', '428.jpg', '434.jpg', '439.jpg', '441.jpg', '443.jpg', '452.jpg', '454.jpg', '463.jpg', '466.jpg', '467.jpg', '475.jpg', '476.jpg', '481.jpg', '488.jpg', '489.jpg', '493.jpg', '495.jpg', '502.jpg', '507.jpg', '508.jpg', '510.jpg', '515.jpg', '517.jpg', '522.jpg', '523.jpg', '528.jpg', '529.jpg', '535.jpg', '539.jpg', '542.jpg', '549.jpg', '551.jpg', '555.jpg', '556.jpg', '561.jpg', '563.jpg', '568.jpg', '570.jpg', '571.jpg', '575.jpg', '580.jpg', '583.jpg', '586.jpg', '587.jpg', '593.jpg', '596.jpg', '607.jpg', '611.jpg', '615.jpg', '617.jpg', '619.jpg', '623.jpg', '626.jpg', '631.jpg', '637.jpg', '639.jpg', '644.jpg', '647.jpg', '655.jpg', '658.jpg', '664.jpg', '668.jpg', '670.jpg', '675.jpg', '679.jpg', '683.jpg', '686.jpg', '691.jpg', '697.jpg', '704.jpg', '708.jpg', '715.jpg', '719.jpg', '720.jpg', '721.jpg', '726.jpg', '728.jpg', '730.jpg', '734.jpg', '736.jpg', '738.jpg', '744.jpg', '746.jpg', '750.jpg', '756.jpg', '760.jpg', '761.jpg', '767.jpg', '768.jpg', '772.jpg', '774.jpg', '777.jpg', '780.jpg', '785.jpg', '786.jpg', '787.jpg', '791.jpg', '797.jpg', '799.jpg', '801.jpg', '806.jpg', '812.jpg', '813.jpg', '816.jpg', '824.jpg', '826.jpg', '835.jpg', '836.jpg', '841.jpg', '845.jpg', '849.jpg', '850.jpg', '853.jpg', '859.jpg', '863.jpg', '867.jpg', '870.jpg', '872.jpg', '877.jpg', '881.jpg', '883.jpg', '884.jpg', '894.jpg', '898.jpg', '899.jpg', '905.jpg', '913.jpg', '916.jpg', '924.jpg', '931.jpg', '933.jpg', '938.jpg', '942.jpg', '9460.jpg', '9488.jpg', '950.jpg', '951.jpg', '9511.jpg', '9530.jpg', '9545.jpg', '9558.jpg', '9572.jpg', '9588.jpg', '960.jpg', '9604.jpg', '9618.jpg', '962.jpg', '963.jpg', '9632.jpg', '9647.jpg', '9660.jpg', '9675.jpg', '968.jpg', '9687.jpg', '9700.jpg', '9712.jpg', '9726.jpg', '9739.jpg', '974.jpg', '9750.jpg', '9764.jpg', '977.jpg', '9777.jpg', '9792.jpg', '9806.jpg', '9818.jpg', '9832.jpg', '9844.jpg', '985.jpg', '986.jpg', '996.jpg', '999.jpg']\n",
      "Contents of folder rock: ['1001.jpg', '1007.jpg', '1015.jpg', '1023.jpg', '1032.jpg', '1040.jpg', '1047.jpg', '1048.jpg', '1056.jpg', '1064.jpg', '1071.jpg', '1079.jpg', '1087.jpg', '1091.jpg', '1094.jpg', '1102.jpg', '1104.jpg', '1108.jpg', '1117.jpg', '1125.jpg', '1131.jpg', '1140.jpg', '1148.jpg', '1155.jpg', '1163.jpg', '1170.jpg', '1178.jpg', '1184.jpg', '1185.jpg', '1192.jpg', '1200.jpg', '1207.jpg', '1215.jpg', '1221.jpg', '1228.jpg', '1234.jpg', '1242.jpg', '1265.jpg', '1269.jpg', '1273.jpg', '1279.jpg', '1286.jpg', '1292.jpg', '1300.jpg', '1308.jpg', '1309.jpg', '1315.jpg', '1321.jpg', '1325.jpg', '1331.jpg', '1339.jpg', '1341.jpg', '1350.jpg', '1353.jpg', '1357.jpg', '1366.jpg', '1368.jpg', '1373.jpg', '1381.jpg', '1389.jpg', '1394.jpg', '1407.jpg', '1421.jpg', '1428.jpg', '1436.jpg', '1438.jpg', '1444.jpg', '1453.jpg', '1460.jpg', '1467.jpg', '1470.jpg', '1475.jpg', '1476.jpg', '1486.jpg', '1490.jpg', '1499.jpg', '1501.jpg', '1507.jpg', '1516.jpg', '1523.jpg', '1529.jpg', '1532.jpg', '1542.jpg', '1571.jpg', '1583.jpg', '1591.jpg', '1600.jpg', '1603.jpg', '1605.jpg', '1615.jpg', '1616.jpg', '1624.jpg', '1631.jpg', '1635.jpg', '1645.jpg', '1646.jpg', '1656.jpg', '1661.jpg', '1669.jpg', '1678.jpg', '1686.jpg', '1695.jpg', '1696.jpg', '1706.jpg', '1709.jpg', '1716.jpg', '1725.jpg', '1731.jpg', '1737.jpg', '1756.jpg', '1765.jpg', '1880.jpg', '1896.jpg', '1924.jpg', '1939.jpg', '1954.jpg', '1969.jpg', '1984.jpg', '2001.jpg', '2016.jpg', '2030.jpg', '2090.jpg', '2104.jpg', '2135.jpg', '2149.jpg', '2164.jpg', '2184.jpg', '2197.jpg', '2211.jpg', '2224.jpg', '2238.jpg', '2253.jpg', '2266.jpg', '2280.jpg', '2293.jpg', '2307.jpg', '2320.jpg', '2333.jpg', '2346.jpg', '2367.jpg', '2383.jpg', '2399.jpg', '2412.jpg', '2426.jpg', '2439.jpg', '2453.jpg', '2466.jpg', '2479.jpg', '2507.jpg', '2518.jpg', '2527.jpg', '2535.jpg', '2545.jpg', '2556.jpg', '2564.jpg', '2575.jpg', '2587.jpg', '2597.jpg', '2608.jpg', '2618.jpg', '2629.jpg', '2640.jpg', '2650.jpg', '2660.jpg', '2669.jpg', '2678.jpg', '2717.jpg', '2729.jpg', '2741.jpg', '2750.jpg', '2763.jpg', '2775.jpg', '2787.jpg', '2796.jpg', '2801.jpg', '2812.jpg', '2817.jpg', '2820.jpg', '2828.jpg', '2832.jpg', '2839.jpg', '2840.jpg', '2849.jpg', '2851.jpg', '2859.jpg', '2871.jpg', '2880.jpg', '2884.jpg', '2888.jpg', '2896.jpg', '2904.jpg', '2913.jpg', '2921.jpg', '2925.jpg', '2928.jpg', '2936.jpg', '2943.jpg', '2949.jpg', '2957.jpg', '2962.jpg', '2969.jpg', '2977.jpg', '2983.jpg', '2985.jpg', '2992.jpg', '2997.jpg', '3000.jpg', '3007.jpg', '3010.jpg', '3015.jpg', '3020.jpg', '3021.jpg', '3027.jpg', '3034.jpg', '3035.jpg', '3040.jpg', '3048.jpg', '3049.jpg', '3057.jpg', '3063.jpg', '3064.jpg', '3072.jpg', '3074.jpg', '3079.jpg', '3086.jpg', '3088.jpg', '3093.jpg', '3100.jpg', '3102.jpg', '3107.jpg', '3112.jpg', '3113.jpg', '3120.jpg', '3126.jpg', '3131.jpg', '3133.jpg', '3139.jpg', '3142.jpg', '3145.jpg', '3151.jpg', '3154.jpg', '3158.jpg', '3164.jpg', '3169.jpg', '3170.jpg', '3177.jpg', '3179.jpg', '3185.jpg', '3190.jpg', '3193.jpg', '3198.jpg', '3203.jpg', '3210.jpg', '3215.jpg', '3217.jpg', '3223.jpg', '3225.jpg', '3230.jpg', '3236.jpg', '3237.jpg', '3243.jpg', '3248.jpg', '3255.jpg', '3259.jpg', '3264.jpg', '3272.jpg', '3277.jpg', '3280.jpg', '3287.jpg', '3291.jpg', '3294.jpg', '3301.jpg', '3307.jpg', '3314.jpg', '3319.jpg', '3321.jpg', '3327.jpg', '3331.jpg', '3333.jpg', '3341.jpg', '3345.jpg', '3347.jpg', '3354.jpg', '3357.jpg', '3360.jpg', '3367.jpg', '3368.jpg', '3373.jpg', '3379.jpg', '3383.jpg', '3388.jpg', '3390.jpg', '3396.jpg', '3400.jpg', '3407.jpg', '3412.jpg', '3413.jpg', '3420.jpg', '3422.jpg', '3426.jpg', '3432.jpg', '3433.jpg', '3438.jpg', '3445.jpg', '3451.jpg', '3457.jpg', '3458.jpg', '3465.jpg', '3468.jpg', '3477.jpg', '3479.jpg', '3488.jpg', '3489.jpg', '3497.jpg', '3498.jpg', '3506.jpg', '3511.jpg', '3514.jpg', '3521.jpg', '3522.jpg', '3529.jpg', '3532.jpg', '3537.jpg', '3543.jpg', '3544.jpg', '3551.jpg', '3555.jpg', '3560.jpg', '3566.jpg', '3567.jpg', '3574.jpg', '3576.jpg', '3580.jpg', '3588.jpg', '3596.jpg', '3599.jpg', '3612.jpg', '3625.jpg', '3637.jpg', '3647.jpg', '3659.jpg', '3670.jpg', '3683.jpg', '3696.jpg', '3707.jpg', '3722.jpg', '3733.jpg', '3746.jpg', '3757.jpg', '3768.jpg', '3803.jpg', '3813.jpg', '3823.jpg', '3834.jpg', '384.jpg', '3845.jpg', '3857.jpg', '3863.jpg', '3874.jpg', '3884.jpg', '3897.jpg', '3907.jpg', '3919.jpg', '3930.jpg', '3943.jpg', '3957.jpg', '396.jpg', '3980.jpg', '3993.jpg', '4004.jpg', '4015.jpg', '4026.jpg', '4038.jpg', '4049.jpg', '4061.jpg', '407.jpg', '4070.jpg', '4083.jpg', '4094.jpg', '4108.jpg', '4121.jpg', '4135.jpg', '4147.jpg', '416.jpg', '4161.jpg', '4171.jpg', '4184.jpg', '4194.jpg', '4206.jpg', '4217.jpg', '4228.jpg', '4239.jpg', '4249.jpg', '426.jpg', '4261.jpg', '4271.jpg', '4282.jpg', '4295.jpg', '4303.jpg', '4314.jpg', '4362.jpg', '4373.jpg', '438.jpg', '4382.jpg', '4395.jpg', '4424.jpg', '4435.jpg', '4445.jpg', '4455.jpg', '4468.jpg', '4478.jpg', '449.jpg', '4492.jpg', '4502.jpg', '4512.jpg', '4524.jpg', '4536.jpg', '4546.jpg', '460.jpg', '469.jpg', '480.jpg', '489.jpg', '491.jpg', '501.jpg', '502.jpg', '512.jpg', '516.jpg', '520.jpg', '530.jpg', '533.jpg', '540.jpg', '546.jpg', '550.jpg', '559.jpg', '568.jpg', '571.jpg', '578.jpg', '588.jpg', '589.jpg', '599.jpg', '605.jpg', '607.jpg', '617.jpg', '618.jpg', '628.jpg', '631.jpg', '637.jpg', '645.jpg', '647.jpg', '658.jpg', '659.jpg', '664.jpg', '672.jpg', '675.jpg', '683.jpg', '685.jpg', '691.jpg', '699.jpg', '702.jpg', '711.jpg', '721.jpg', '725.jpg', '731.jpg', '739.jpg', '741.jpg', '751.jpg', '754.jpg', '759.jpg', '767.jpg', '770.jpg', '780.jpg', '781.jpg', '790.jpg', '794.jpg', '798.jpg', '808.jpg', '817.jpg', '822.jpg', '827.jpg', '837.jpg', '844.jpg', '845.jpg', '854.jpg', '855.jpg', '862.jpg', '867.jpg', '869.jpg', '877.jpg', '882.jpg', '885.jpg', '892.jpg', '893.jpg', '902.jpg', '908.jpg', '909.jpg', '917.jpg', '925.jpg', '926.jpg', '932.jpg', '939.jpg', '946.jpg', '955.jpg', '963.jpg', '971.jpg', '980.jpg', '987.jpg', '994.jpg', '999.jpg']\n",
      "Contents of folder rock_on: ['1000.jpg', '1026.jpg', '1033.jpg', '1039.jpg', '1044.jpg', '1052.jpg', '1058.jpg', '1064.jpg', '1070.jpg', '1077.jpg', '1084.jpg', '1091.jpg', '1098.jpg', '1106.jpg', '1112.jpg', '1127.jpg', '1133.jpg', '1140.jpg', '1147.jpg', '1156.jpg', '1244.jpg', '1250.jpg', '1263.jpg', '1270.jpg', '1277.jpg', '1284.jpg', '1295.jpg', '1301.jpg', '1310.jpg', '1317.jpg', '1327.jpg', '1333.jpg', '1340.jpg', '1347.jpg', '1355.jpg', '1363.jpg', '1370.jpg', '1388.jpg', '1487.jpg', '1494.jpg', '1500.jpg', '1509.jpg', '1538.jpg', '1638.jpg', '1691.jpg', '1699.jpg', '1711.jpg', '1716.jpg', '1725.jpg', '1732.jpg', '1740.jpg', '1747.jpg', '1754.jpg', '1761.jpg', '1771.jpg', '1795.jpg', '1801.jpg', '1812.jpg', '1835.jpg', '1842.jpg', '1859.jpg', '1866.jpg', '1873.jpg', '1882.jpg', '1890.jpg', '1898.jpg', '1907.jpg', '1915.jpg', '1923.jpg', '1932.jpg', '1940.jpg', '1950.jpg', '1959.jpg', '1967.jpg', '1977.jpg', '1988.jpg', '2013.jpg', '2023.jpg', '2032.jpg', '2039.jpg', '2056.jpg', '2064.jpg', '2074.jpg', '2082.jpg', '2089.jpg', '2096.jpg', '2134.jpg', '2240.jpg', '2247.jpg', '2255.jpg', '2264.jpg', '2283.jpg', '2291.jpg', '2304.jpg', '2309.jpg', '2318.jpg', '2327.jpg', '2334.jpg', '2359.jpg', '2366.jpg', '2393.jpg', '2400.jpg', '2409.jpg', '2416.jpg', '2426.jpg', '2433.jpg', '2448.jpg', '2461.jpg', '2468.jpg', '2477.jpg', '2483.jpg', '2506.jpg', '2513.jpg', '2520.jpg', '2527.jpg', '2537.jpg', '2543.jpg', '2550.jpg', '2555.jpg', '2562.jpg', '2566.jpg', '2570.jpg', '2579.jpg', '2585.jpg', '2590.jpg', '2598.jpg', '2602.jpg', '2609.jpg', '2614.jpg', '2621.jpg', '2627.jpg', '2634.jpg', '2640.jpg', '2646.jpg', '2649.jpg', '2658.jpg', '2663.jpg', '2670.jpg', '2678.jpg', '2688.jpg', '2695.jpg', '2728.jpg', '2736.jpg', '2743.jpg', '2751.jpg', '2758.jpg', '2765.jpg', '2770.jpg', '2777.jpg', '2783.jpg', '2791.jpg', '2799.jpg', '2810.jpg', '2822.jpg', '2829.jpg', '2838.jpg', '2845.jpg', '2858.jpg', '2896.jpg', '2904.jpg', '2911.jpg', '2949.jpg', '2975.jpg', '2981.jpg', '2989.jpg', '3012.jpg', '3101.jpg', '3107.jpg', '3114.jpg', '3120.jpg', '3130.jpg', '3140.jpg', '3155.jpg', '3161.jpg', '3168.jpg', '3176.jpg', '3188.jpg', '3195.jpg', '3203.jpg', '3210.jpg', '3216.jpg', '3225.jpg', '3306.jpg', '3312.jpg', '3317.jpg', '3331.jpg', '3336.jpg', '3342.jpg', '3348.jpg', '3353.jpg', '3360.jpg', '3365.jpg', '3371.jpg', '3375.jpg', '3381.jpg', '3386.jpg', '3392.jpg', '3398.jpg', '3404.jpg', '3409.jpg', '3414.jpg', '3421.jpg', '3425.jpg', '3434.jpg', '3439.jpg', '3444.jpg', '3450.jpg', '3458.jpg', '3466.jpg', '3472.jpg', '3479.jpg', '3486.jpg', '3492.jpg', '3499.jpg', '3504.jpg', '3512.jpg', '3517.jpg', '3528.jpg', '3536.jpg', '3542.jpg', '3549.jpg', '3556.jpg', '3563.jpg', '4118.jpg', '4126.jpg', '4132.jpg', '4138.jpg', '4143.jpg', '4149.jpg', '4155.jpg', '4162.jpg', '4166.jpg', '4173.jpg', '4178.jpg', '4185.jpg', '4190.jpg', '4196.jpg', '4201.jpg', '4206.jpg', '4211.jpg', '4218.jpg', '4224.jpg', '4230.jpg', '4235.jpg', '4272.jpg', '4277.jpg', '4283.jpg', '4288.jpg', '4293.jpg', '4299.jpg', '4304.jpg', '4309.jpg', '4314.jpg', '4320.jpg', '4324.jpg', '4332.jpg', '4339.jpg', '4413.jpg', '4424.jpg', '444.jpg', '4513.jpg', '4519.jpg', '453.jpg', '4535.jpg', '4536.jpg', '4540.jpg', '4546.jpg', '4551.jpg', '4555.jpg', '4584.jpg', '4600.jpg', '4608.jpg', '4615.jpg', '462.jpg', '4620.jpg', '4626.jpg', '4632.jpg', '4639.jpg', '4645.jpg', '4651.jpg', '4657.jpg', '4704.jpg', '4712.jpg', '4718.jpg', '4725.jpg', '4731.jpg', '4737.jpg', '4743.jpg', '4750.jpg', '4756.jpg', '4762.jpg', '4769.jpg', '4775.jpg', '4782.jpg', '4788.jpg', '4794.jpg', '480.jpg', '4800.jpg', '4807.jpg', '4833.jpg', '4839.jpg', '4845.jpg', '4852.jpg', '4857.jpg', '4863.jpg', '4869.jpg', '4875.jpg', '4880.jpg', '4886.jpg', '489.jpg', '4891.jpg', '4897.jpg', '4902.jpg', '4933.jpg', '496.jpg', '503.jpg', '5054.jpg', '5060.jpg', '5070.jpg', '5076.jpg', '5081.jpg', '5088.jpg', '5092.jpg', '5099.jpg', '5103.jpg', '5111.jpg', '5115.jpg', '5122.jpg', '5128.jpg', '5134.jpg', '5139.jpg', '5146.jpg', '5151.jpg', '517.jpg', '525.jpg', '5257.jpg', '5264.jpg', '5269.jpg', '5276.jpg', '5281.jpg', '5287.jpg', '5292.jpg', '5295.jpg', '5377.jpg', '5382.jpg', '5388.jpg', '5393.jpg', '5397.jpg', '5401.jpg', '5407.jpg', '541.jpg', '5412.jpg', '5416.jpg', '5422.jpg', '5427.jpg', '5432.jpg', '5438.jpg', '5442.jpg', '5448.jpg', '5453.jpg', '5459.jpg', '5464.jpg', '5468.jpg', '5474.jpg', '5478.jpg', '5482.jpg', '5488.jpg', '5492.jpg', '5498.jpg', '5501.jpg', '5507.jpg', '5511.jpg', '5515.jpg', '5520.jpg', '5524.jpg', '5529.jpg', '5533.jpg', '5537.jpg', '5542.jpg', '5547.jpg', '5550.jpg', '5556.jpg', '5561.jpg', '5565.jpg', '5570.jpg', '5575.jpg', '5580.jpg', '5584.jpg', '5589.jpg', '5594.jpg', '5599.jpg', '5604.jpg', '5609.jpg', '561.jpg', '5615.jpg', '5618.jpg', '5624.jpg', '5629.jpg', '5634.jpg', '5639.jpg', '5645.jpg', '5650.jpg', '5655.jpg', '5659.jpg', '5663.jpg', '5669.jpg', '5674.jpg', '5680.jpg', '5685.jpg', '5691.jpg', '5696.jpg', '570.jpg', '5701.jpg', '5707.jpg', '5712.jpg', '5718.jpg', '5723.jpg', '5729.jpg', '5732.jpg', '5739.jpg', '5744.jpg', '5750.jpg', '5756.jpg', '576.jpg', '5761.jpg', '5767.jpg', '5771.jpg', '5777.jpg', '5782.jpg', '5787.jpg', '5793.jpg', '5798.jpg', '5804.jpg', '5810.jpg', '5814.jpg', '5819.jpg', '5823.jpg', '5827.jpg', '5832.jpg', '5837.jpg', '5841.jpg', '5845.jpg', '585.jpg', '5850.jpg', '5855.jpg', '5859.jpg', '5865.jpg', '5870.jpg', '5876.jpg', '5881.jpg', '5887.jpg', '5892.jpg', '5898.jpg', '5905.jpg', '5910.jpg', '5916.jpg', '5920.jpg', '5926.jpg', '5931.jpg', '5937.jpg', '5942.jpg', '5948.jpg', '5952.jpg', '5958.jpg', '596.jpg', '5963.jpg', '5968.jpg', '5973.jpg', '5978.jpg', '5983.jpg', '5989.jpg', '5995.jpg', '6001.jpg', '6005.jpg', '6011.jpg', '6016.jpg', '6021.jpg', '6026.jpg', '6031.jpg', '6038.jpg', '6042.jpg', '6048.jpg', '605.jpg', '6054.jpg', '6060.jpg', '6064.jpg', '6071.jpg', '6077.jpg', '6083.jpg', '6089.jpg', '6095.jpg', '6100.jpg', '6107.jpg', '6118.jpg', '6121.jpg', '6127.jpg', '6131.jpg', '6137.jpg', '614.jpg', '6142.jpg', '6147.jpg', '6153.jpg', '6159.jpg', '6166.jpg', '6169.jpg', '6175.jpg', '6180.jpg', '6184.jpg', '6190.jpg', '6195.jpg', '6202.jpg', '622.jpg', '631.jpg', '640.jpg', '647.jpg', '659.jpg', '667.jpg', '686.jpg', '693.jpg', '699.jpg', '706.jpg', '808.jpg', '816.jpg', '862.jpg', '870.jpg', '943.jpg', '953.jpg', '968.jpg', '976.jpg', '983.jpg', '990.jpg']\n",
      "Contents of folder scissor: ['1000.jpg', '1013.jpg', '1026.jpg', '1039.jpg', '1051.jpg', '1053.jpg', '1066.jpg', '1071.jpg', '1079.jpg', '1081.jpg', '1090.jpg', '1092.jpg', '1097.jpg', '1104.jpg', '1107.jpg', '1116.jpg', '1122.jpg', '1124.jpg', '1134.jpg', '1139.jpg', '1144.jpg', '1151.jpg', '1155.jpg', '1159.jpg', '1165.jpg', '1171.jpg', '1175.jpg', '1185.jpg', '1189.jpg', '1197.jpg', '1210.jpg', '1214.jpg', '1221.jpg', '1227.jpg', '1231.jpg', '1238.jpg', '1244.jpg', '1248.jpg', '1256.jpg', '1260.jpg', '1270.jpg', '1275.jpg', '1280.jpg', '1285.jpg', '1290.jpg', '1294.jpg', '1300.jpg', '1308.jpg', '1311.jpg', '1319.jpg', '1320.jpg', '1328.jpg', '1342.jpg', '1351.jpg', '1362.jpg', '1371.jpg', '1384.jpg', '1396.jpg', '1407.jpg', '1419.jpg', '1430.jpg', '1442.jpg', '1443.jpg', '1452.jpg', '1453.jpg', '1461.jpg', '1465.jpg', '1472.jpg', '1476.jpg', '1487.jpg', '1491.jpg', '1499.jpg', '1502.jpg', '1511.jpg', '1512.jpg', '1521.jpg', '1523.jpg', '1531.jpg', '1536.jpg', '1543.jpg', '1547.jpg', '1553.jpg', '1558.jpg', '1564.jpg', '1571.jpg', '1576.jpg', '1582.jpg', '1594.jpg', '1604.jpg', '1613.jpg', '1626.jpg', '1637.jpg', '1638.jpg', '1647.jpg', '1649.jpg', '1658.jpg', '1663.jpg', '1671.jpg', '1674.jpg', '1680.jpg', '1685.jpg', '1692.jpg', '1697.jpg', '1704.jpg', '1707.jpg', '1715.jpg', '1718.jpg', '1727.jpg', '1733.jpg', '1739.jpg', '1744.jpg', '1749.jpg', '1755.jpg', '1760.jpg', '1766.jpg', '1771.jpg', '1778.jpg', '1782.jpg', '1790.jpg', '1791.jpg', '1800.jpg', '1802.jpg', '1809.jpg', '1814.jpg', '1821.jpg', '1829.jpg', '1833.jpg', '1838.jpg', '1843.jpg', '1849.jpg', '1854.jpg', '1862.jpg', '1863.jpg', '1872.jpg', '1873.jpg', '1883.jpg', '1884.jpg', '1892.jpg', '1896.jpg', '1909.jpg', '1912.jpg', '1918.jpg', '1924.jpg', '1932.jpg', '1937.jpg', '1941.jpg', '1947.jpg', '1953.jpg', '1959.jpg', '1964.jpg', '1969.jpg', '1975.jpg', '1978.jpg', '1987.jpg', '1988.jpg', '1998.jpg', '2000.jpg', '2009.jpg', '2011.jpg', '2020.jpg', '2021.jpg', '2032.jpg', '2033.jpg', '2034.jpg', '2042.jpg', '2050.jpg', '2052.jpg', '2062.jpg', '2063.jpg', '2071.jpg', '2075.jpg', '2082.jpg', '2090.jpg', '2092.jpg', '2102.jpg', '2103.jpg', '2111.jpg', '2118.jpg', '2121.jpg', '2130.jpg', '2134.jpg', '2140.jpg', '2148.jpg', '2149.jpg', '2159.jpg', '2167.jpg', '2179.jpg', '2191.jpg', '2193.jpg', '2202.jpg', '2207.jpg', '2212.jpg', '2222.jpg', '2233.jpg', '2236.jpg', '2246.jpg', '2247.jpg', '2256.jpg', '2259.jpg', '2264.jpg', '2275.jpg', '2276.jpg', '2286.jpg', '2287.jpg', '2297.jpg', '2299.jpg', '2309.jpg', '2310.jpg', '2320.jpg', '2321.jpg', '2329.jpg', '2334.jpg', '2340.jpg', '2346.jpg', '2351.jpg', '2358.jpg', '2362.jpg', '2369.jpg', '2371.jpg', '2380.jpg', '2383.jpg', '2393.jpg', '2395.jpg', '2404.jpg', '2410.jpg', '2413.jpg', '2420.jpg', '2429.jpg', '2454.jpg', '2463.jpg', '2472.jpg', '2482.jpg', '2499.jpg', '2661.jpg', '2672.jpg', '2685.jpg', '2694.jpg', '2703.jpg', '2714.jpg', '2725.jpg', '2735.jpg', '2746.jpg', '2755.jpg', '2767.jpg', '2776.jpg', '2786.jpg', '2796.jpg', '2807.jpg', '2816.jpg', '2828.jpg', '2829.jpg', '2836.jpg', '2841.jpg', '2846.jpg', '2852.jpg', '2856.jpg', '2864.jpg', '2865.jpg', '2876.jpg', '2877.jpg', '2886.jpg', '2888.jpg', '2895.jpg', '2899.jpg', '2906.jpg', '2910.jpg', '2916.jpg', '2919.jpg', '2927.jpg', '2929.jpg', '2938.jpg', '2940.jpg', '2949.jpg', '2951.jpg', '2959.jpg', '2971.jpg', '2980.jpg', '2989.jpg', '3000.jpg', '3010.jpg', '3018.jpg', '3026.jpg', '3037.jpg', '3044.jpg', '3047.jpg', '3054.jpg', '3055.jpg', '3064.jpg', '3066.jpg', '3074.jpg', '3083.jpg', '3084.jpg', '3093.jpg', '3102.jpg', '3104.jpg', '3112.jpg', '3113.jpg', '3123.jpg', '3132.jpg', '3134.jpg', '3142.jpg', '3143.jpg', '3153.jpg', '3155.jpg', '3160.jpg', '3165.jpg', '3170.jpg', '3175.jpg', '3179.jpg', '3184.jpg', '3188.jpg', '3194.jpg', '3197.jpg', '3204.jpg', '3206.jpg', '3213.jpg', '3215.jpg', '3223.jpg', '3227.jpg', '3234.jpg', '3236.jpg', '3244.jpg', '3245.jpg', '3257.jpg', '3267.jpg', '3279.jpg', '328.jpg', '3281.jpg', '3288.jpg', '3297.jpg', '3307.jpg', '3316.jpg', '3319.jpg', '3326.jpg', '3329.jpg', '3336.jpg', '3338.jpg', '3346.jpg', '3348.jpg', '3353.jpg', '3358.jpg', '3362.jpg', '3367.jpg', '3377.jpg', '3378.jpg', '3387.jpg', '3388.jpg', '3397.jpg', '3398.jpg', '3407.jpg', '3415.jpg', '3416.jpg', '3424.jpg', '3426.jpg', '3434.jpg', '344.jpg', '3444.jpg', '3445.jpg', '3453.jpg', '3454.jpg', '3462.jpg', '3463.jpg', '3470.jpg', '3472.jpg', '3478.jpg', '3482.jpg', '3485.jpg', '3493.jpg', '3494.jpg', '3502.jpg', '3503.jpg', '3509.jpg', '3513.jpg', '3518.jpg', '3523.jpg', '3532.jpg', '3533.jpg', '3543.jpg', '3546.jpg', '355.jpg', '3552.jpg', '3558.jpg', '3562.jpg', '3568.jpg', '3573.jpg', '3579.jpg', '3581.jpg', '3590.jpg', '3591.jpg', '3600.jpg', '3601.jpg', '3610.jpg', '3611.jpg', '3620.jpg', '3622.jpg', '3627.jpg', '3630.jpg', '3637.jpg', '3640.jpg', '3647.jpg', '3649.jpg', '3657.jpg', '366.jpg', '3660.jpg', '3668.jpg', '3672.jpg', '3675.jpg', '3682.jpg', '3683.jpg', '3691.jpg', '3692.jpg', '3702.jpg', '3711.jpg', '3712.jpg', '3721.jpg', '3730.jpg', '3731.jpg', '3737.jpg', '3742.jpg', '3747.jpg', '3751.jpg', '3755.jpg', '3759.jpg', '3766.jpg', '3769.jpg', '3775.jpg', '3779.jpg', '3788.jpg', '3799.jpg', '3809.jpg', '3818.jpg', '3828.jpg', '3837.jpg', '3848.jpg', '385.jpg', '3858.jpg', '3868.jpg', '3879.jpg', '3887.jpg', '3896.jpg', '3903.jpg', '3913.jpg', '3923.jpg', '3931.jpg', '3940.jpg', '3951.jpg', '3961.jpg', '3970.jpg', '3980.jpg', '3988.jpg', '3998.jpg', '4008.jpg', '4018.jpg', '4028.jpg', '4036.jpg', '4047.jpg', '4057.jpg', '4068.jpg', '4069.jpg', '4070.jpg', '4133.jpg', '4142.jpg', '4153.jpg', '4162.jpg', '4172.jpg', '4182.jpg', '4191.jpg', '4203.jpg', '4212.jpg', '4222.jpg', '4232.jpg', '4242.jpg', '4252.jpg', '4267.jpg', '4277.jpg', '4288.jpg', '4298.jpg', '4308.jpg', '446.jpg', '456.jpg', '466.jpg', '582.jpg', '591.jpg', '602.jpg', '610.jpg', '622.jpg', '633.jpg', '646.jpg', '658.jpg', '670.jpg', '680.jpg', '692.jpg', '706.jpg', '716.jpg', '727.jpg', '736.jpg', '739.jpg', '748.jpg', '758.jpg', '770.jpg', '785.jpg', '794.jpg', '805.jpg', '817.jpg', '826.jpg', '839.jpg', '850.jpg', '862.jpg', '869.jpg', '873.jpg', '884.jpg', '886.jpg', '896.jpg', '900.jpg', '911.jpg', '914.jpg', '921.jpg', '929.jpg', '932.jpg', '942.jpg', '945.jpg', '954.jpg', '958.jpg', '972.jpg', '976.jpg', '986.jpg', '996.jpg']\n",
      "Contents of folder thumbs: ['1004.jpg', '1013.jpg', '1021.jpg', '1032.jpg', '1042.jpg', '1050.jpg', '1058.jpg', '1066.jpg', '1074.jpg', '1082.jpg', '1090.jpg', '1097.jpg', '1105.jpg', '1128.jpg', '1135.jpg', '1143.jpg', '1150.jpg', '1158.jpg', '1166.jpg', '1175.jpg', '1195.jpg', '1202.jpg', '1212.jpg', '1256.jpg', '1262.jpg', '1270.jpg', '1278.jpg', '1286.jpg', '1295.jpg', '1302.jpg', '1310.jpg', '1318.jpg', '1325.jpg', '1331.jpg', '1340.jpg', '1348.jpg', '1356.jpg', '1363.jpg', '1395.jpg', '1402.jpg', '1433.jpg', '1439.jpg', '1463.jpg', '1495.jpg', '1504.jpg', '1511.jpg', '1522.jpg', '153.jpg', '1531.jpg', '1540.jpg', '1547.jpg', '1555.jpg', '1568.jpg', '1577.jpg', '1584.jpg', '1592.jpg', '1601.jpg', '1608.jpg', '1617.jpg', '1627.jpg', '1636.jpg', '1644.jpg', '1650.jpg', '1660.jpg', '1669.jpg', '1675.jpg', '1685.jpg', '1697.jpg', '170.jpg', '1705.jpg', '1710.jpg', '1719.jpg', '1727.jpg', '1736.jpg', '1746.jpg', '1754.jpg', '1763.jpg', '1770.jpg', '178.jpg', '1780.jpg', '1790.jpg', '1797.jpg', '1805.jpg', '1813.jpg', '1822.jpg', '1829.jpg', '1839.jpg', '1849.jpg', '185.jpg', '1857.jpg', '1867.jpg', '1875.jpg', '1882.jpg', '1889.jpg', '1900.jpg', '1907.jpg', '1924.jpg', '193.jpg', '1932.jpg', '1940.jpg', '1960.jpg', '1968.jpg', '1984.jpg', '1991.jpg', '1998.jpg', '200.jpg', '2006.jpg', '2013.jpg', '2022.jpg', '2031.jpg', '2040.jpg', '2047.jpg', '2055.jpg', '2063.jpg', '2071.jpg', '2078.jpg', '2088.jpg', '209.jpg', '2096.jpg', '2104.jpg', '2112.jpg', '2121.jpg', '2129.jpg', '2137.jpg', '2146.jpg', '2154.jpg', '2162.jpg', '2171.jpg', '2179.jpg', '2188.jpg', '2197.jpg', '2206.jpg', '221.jpg', '2213.jpg', '2222.jpg', '2230.jpg', '2238.jpg', '2246.jpg', '2254.jpg', '2262.jpg', '2269.jpg', '2278.jpg', '2287.jpg', '229.jpg', '2295.jpg', '2302.jpg', '2310.jpg', '2318.jpg', '2333.jpg', '2340.jpg', '2348.jpg', '2358.jpg', '2365.jpg', '2373.jpg', '238.jpg', '2381.jpg', '2390.jpg', '2398.jpg', '2405.jpg', '2413.jpg', '2420.jpg', '2429.jpg', '2437.jpg', '2445.jpg', '2453.jpg', '2461.jpg', '2468.jpg', '2477.jpg', '2486.jpg', '2494.jpg', '2502.jpg', '2510.jpg', '2517.jpg', '2525.jpg', '2533.jpg', '2540.jpg', '2548.jpg', '2556.jpg', '256.jpg', '2563.jpg', '2571.jpg', '2580.jpg', '2586.jpg', '2594.jpg', '2602.jpg', '2611.jpg', '2618.jpg', '2627.jpg', '2634.jpg', '3113.jpg', '3120.jpg', '3126.jpg', '3132.jpg', '3141.jpg', '3147.jpg', '3154.jpg', '3160.jpg', '3166.jpg', '3173.jpg', '3178.jpg', '3184.jpg', '3190.jpg', '3196.jpg', '3202.jpg', '3208.jpg', '3215.jpg', '3220.jpg', '3227.jpg', '3233.jpg', '3239.jpg', '3252.jpg', '3258.jpg', '3265.jpg', '3271.jpg', '3277.jpg', '3283.jpg', '3289.jpg', '3294.jpg', '3300.jpg', '3305.jpg', '3310.jpg', '3316.jpg', '3322.jpg', '3328.jpg', '3335.jpg', '3340.jpg', '3346.jpg', '3351.jpg', '3357.jpg', '3364.jpg', '3373.jpg', '3381.jpg', '3386.jpg', '3392.jpg', '3398.jpg', '3402.jpg', '3409.jpg', '3415.jpg', '3420.jpg', '3426.jpg', '3433.jpg', '3438.jpg', '3444.jpg', '3449.jpg', '3455.jpg', '3461.jpg', '3467.jpg', '3474.jpg', '3480.jpg', '3486.jpg', '3491.jpg', '3497.jpg', '3502.jpg', '3508.jpg', '3515.jpg', '3520.jpg', '3526.jpg', '3532.jpg', '3537.jpg', '3545.jpg', '3549.jpg', '3557.jpg', '3563.jpg', '3569.jpg', '3575.jpg', '3580.jpg', '3586.jpg', '3593.jpg', '3598.jpg', '3604.jpg', '3610.jpg', '3616.jpg', '3622.jpg', '3628.jpg', '3634.jpg', '3640.jpg', '3647.jpg', '3652.jpg', '3659.jpg', '3664.jpg', '3669.jpg', '3676.jpg', '3681.jpg', '3687.jpg', '3692.jpg', '3698.jpg', '3703.jpg', '3710.jpg', '3715.jpg', '372.jpg', '3727.jpg', '3732.jpg', '3738.jpg', '3743.jpg', '3749.jpg', '3755.jpg', '3762.jpg', '3767.jpg', '3773.jpg', '3781.jpg', '3786.jpg', '3792.jpg', '3798.jpg', '3805.jpg', '381.jpg', '3811.jpg', '3817.jpg', '3822.jpg', '3829.jpg', '3835.jpg', '3841.jpg', '3847.jpg', '3853.jpg', '3859.jpg', '386.jpg', '3866.jpg', '3872.jpg', '3878.jpg', '3885.jpg', '3891.jpg', '3897.jpg', '3904.jpg', '3911.jpg', '3916.jpg', '3923.jpg', '3929.jpg', '3936.jpg', '394.jpg', '3942.jpg', '3948.jpg', '3954.jpg', '3960.jpg', '3967.jpg', '3972.jpg', '3979.jpg', '3985.jpg', '3994.jpg', '3998.jpg', '4006.jpg', '4011.jpg', '4017.jpg', '4022.jpg', '403.jpg', '4030.jpg', '4035.jpg', '4042.jpg', '4046.jpg', '4054.jpg', '4058.jpg', '4068.jpg', '4073.jpg', '4078.jpg', '4083.jpg', '4088.jpg', '4093.jpg', '4097.jpg', '4103.jpg', '4108.jpg', '4115.jpg', '4122.jpg', '4127.jpg', '4132.jpg', '4140.jpg', '4146.jpg', '4151.jpg', '4157.jpg', '4163.jpg', '4170.jpg', '4175.jpg', '4180.jpg', '4187.jpg', '4193.jpg', '4199.jpg', '4206.jpg', '4212.jpg', '4219.jpg', '4225.jpg', '4231.jpg', '4237.jpg', '4243.jpg', '4248.jpg', '4256.jpg', '4261.jpg', '4268.jpg', '4273.jpg', '4280.jpg', '4285.jpg', '4292.jpg', '4299.jpg', '4304.jpg', '4311.jpg', '4318.jpg', '4323.jpg', '4330.jpg', '4336.jpg', '4341.jpg', '4347.jpg', '4352.jpg', '4358.jpg', '4364.jpg', '4370.jpg', '4374.jpg', '4379.jpg', '4384.jpg', '4389.jpg', '4393.jpg', '4399.jpg', '4406.jpg', '4412.jpg', '4418.jpg', '442.jpg', '4424.jpg', '4431.jpg', '4437.jpg', '4443.jpg', '4449.jpg', '4455.jpg', '4461.jpg', '4466.jpg', '4473.jpg', '4479.jpg', '4485.jpg', '4490.jpg', '4497.jpg', '450.jpg', '4509.jpg', '4514.jpg', '4520.jpg', '4526.jpg', '4531.jpg', '4539.jpg', '4546.jpg', '4552.jpg', '4559.jpg', '4565.jpg', '457.jpg', '4571.jpg', '4577.jpg', '4582.jpg', '4588.jpg', '4595.jpg', '4600.jpg', '4606.jpg', '4612.jpg', '4618.jpg', '4624.jpg', '4631.jpg', '4637.jpg', '4644.jpg', '4651.jpg', '4658.jpg', '466.jpg', '4664.jpg', '4669.jpg', '4676.jpg', '4681.jpg', '4687.jpg', '4694.jpg', '4700.jpg', '4703.jpg', '4710.jpg', '4716.jpg', '4722.jpg', '4728.jpg', '4735.jpg', '4739.jpg', '4746.jpg', '475.jpg', '4753.jpg', '4759.jpg', '4765.jpg', '4770.jpg', '4776.jpg', '4782.jpg', '4788.jpg', '4796.jpg', '4801.jpg', '482.jpg', '491.jpg', '499.jpg', '506.jpg', '515.jpg', '524.jpg', '533.jpg', '540.jpg', '546.jpg', '553.jpg', '560.jpg', '564.jpg', '571.jpg', '578.jpg', '583.jpg', '592.jpg', '599.jpg', '607.jpg', '615.jpg', '620.jpg', '628.jpg', '639.jpg', '646.jpg', '665.jpg', '673.jpg', '683.jpg', '689.jpg', '696.jpg', '713.jpg', '728.jpg', '737.jpg', '747.jpg', '755.jpg', '765.jpg', '774.jpg', '783.jpg', '792.jpg', '804.jpg', '812.jpg', '820.jpg', '841.jpg', '850.jpg', '858.jpg', '865.jpg', '875.jpg', '883.jpg', '890.jpg', '898.jpg', '906.jpg', '913.jpg', '921.jpg', '929.jpg', '936.jpg', '945.jpg', '952.jpg', '960.jpg', '969.jpg', '977.jpg', '986.jpg', '993.jpg']\n",
      "Contents of folder up: ['10006.jpg', '10016.jpg', '10026.jpg', '10036.jpg', '10046.jpg', '10058.jpg', '10068.jpg', '10074.jpg', '10084.jpg', '10092.jpg', '10104.jpg', '10112.jpg', '10122.jpg', '10132.jpg', '10142.jpg', '10152.jpg', '10161.jpg', '10170.jpg', '10179.jpg', '10188.jpg', '10199.jpg', '10208.jpg', '10217.jpg', '1022.jpg', '10227.jpg', '10237.jpg', '10246.jpg', '10253.jpg', '10264.jpg', '10272.jpg', '10281.jpg', '10290.jpg', '10299.jpg', '10306.jpg', '10317.jpg', '10325.jpg', '10338.jpg', '10347.jpg', '10367.jpg', '1040.jpg', '1055.jpg', '1079.jpg', '1095.jpg', '1111.jpg', '1136.jpg', '1172.jpg', '1195.jpg', '1209.jpg', '1259.jpg', '1275.jpg', '1309.jpg', '1331.jpg', '1349.jpg', '1365.jpg', '1413.jpg', '1428.jpg', '1478.jpg', '1499.jpg', '1521.jpg', '1539.jpg', '1559.jpg', '1579.jpg', '1635.jpg', '1716.jpg', '1734.jpg', '1757.jpg', '1807.jpg', '1823.jpg', '1892.jpg', '1910.jpg', '1952.jpg', '1967.jpg', '1981.jpg', '1998.jpg', '2025.jpg', '2038.jpg', '2052.jpg', '2068.jpg', '2090.jpg', '2106.jpg', '2123.jpg', '2141.jpg', '2589.jpg', '2614.jpg', '2632.jpg', '2662.jpg', '2678.jpg', '2696.jpg', '2710.jpg', '2725.jpg', '2741.jpg', '2758.jpg', '2771.jpg', '2785.jpg', '2800.jpg', '2815.jpg', '2831.jpg', '2849.jpg', '2865.jpg', '2880.jpg', '2895.jpg', '2910.jpg', '2924.jpg', '2939.jpg', '2954.jpg', '2972.jpg', '3002.jpg', '3023.jpg', '3043.jpg', '3058.jpg', '3072.jpg', '3089.jpg', '3103.jpg', '3120.jpg', '3134.jpg', '3146.jpg', '3163.jpg', '3177.jpg', '3190.jpg', '3208.jpg', '3222.jpg', '3237.jpg', '3249.jpg', '3264.jpg', '3278.jpg', '3291.jpg', '3306.jpg', '3318.jpg', '3332.jpg', '3349.jpg', '3369.jpg', '3382.jpg', '3598.jpg', '3612.jpg', '3724.jpg', '4027.jpg', '4040.jpg', '4068.jpg', '4082.jpg', '4094.jpg', '4109.jpg', '4123.jpg', '4138.jpg', '4154.jpg', '4168.jpg', '4181.jpg', '4200.jpg', '4213.jpg', '4228.jpg', '4239.jpg', '4253.jpg', '4264.jpg', '4281.jpg', '4293.jpg', '4307.jpg', '4322.jpg', '4336.jpg', '4347.jpg', '4361.jpg', '4376.jpg', '4398.jpg', '4411.jpg', '4425.jpg', '4437.jpg', '4460.jpg', '4474.jpg', '4486.jpg', '4500.jpg', '4514.jpg', '4525.jpg', '4540.jpg', '4553.jpg', '4566.jpg', '4579.jpg', '4593.jpg', '4606.jpg', '4619.jpg', '4633.jpg', '4647.jpg', '4666.jpg', '4679.jpg', '4693.jpg', '4709.jpg', '4725.jpg', '4737.jpg', '4754.jpg', '4766.jpg', '4780.jpg', '4792.jpg', '4806.jpg', '4819.jpg', '4833.jpg', '4846.jpg', '4900.jpg', '4914.jpg', '4926.jpg', '4938.jpg', '4951.jpg', '4966.jpg', '4978.jpg', '4991.jpg', '5006.jpg', '5019.jpg', '5032.jpg', '511.jpg', '5185.jpg', '5198.jpg', '5213.jpg', '5224.jpg', '5236.jpg', '5269.jpg', '528.jpg', '5283.jpg', '5296.jpg', '5310.jpg', '5323.jpg', '5336.jpg', '5349.jpg', '5363.jpg', '5377.jpg', '5390.jpg', '5406.jpg', '5420.jpg', '5435.jpg', '5450.jpg', '5463.jpg', '5477.jpg', '5524.jpg', '555.jpg', '5552.jpg', '5578.jpg', '5589.jpg', '5601.jpg', '5615.jpg', '5628.jpg', '5640.jpg', '5653.jpg', '5665.jpg', '5678.jpg', '5691.jpg', '5703.jpg', '5717.jpg', '5733.jpg', '5747.jpg', '5779.jpg', '578.jpg', '5810.jpg', '5824.jpg', '5872.jpg', '5884.jpg', '5897.jpg', '5910.jpg', '5944.jpg', '5956.jpg', '5974.jpg', '5987.jpg', '6001.jpg', '6017.jpg', '6031.jpg', '6044.jpg', '6056.jpg', '6070.jpg', '6082.jpg', '6095.jpg', '6109.jpg', '6156.jpg', '6171.jpg', '6187.jpg', '6208.jpg', '6220.jpg', '6256.jpg', '6281.jpg', '6295.jpg', '6307.jpg', '6321.jpg', '6334.jpg', '6347.jpg', '6361.jpg', '6378.jpg', '639.jpg', '6393.jpg', '677.jpg', '7109.jpg', '7120.jpg', '7131.jpg', '7142.jpg', '7155.jpg', '7166.jpg', '7179.jpg', '7190.jpg', '7201.jpg', '7212.jpg', '7226.jpg', '7237.jpg', '7248.jpg', '7261.jpg', '7274.jpg', '7284.jpg', '7292.jpg', '7305.jpg', '7316.jpg', '7327.jpg', '7340.jpg', '7349.jpg', '7357.jpg', '7365.jpg', '7378.jpg', '7389.jpg', '7399.jpg', '7411.jpg', '7422.jpg', '7433.jpg', '7444.jpg', '7455.jpg', '7466.jpg', '7476.jpg', '7487.jpg', '7499.jpg', '7509.jpg', '7520.jpg', '7531.jpg', '7542.jpg', '7553.jpg', '7563.jpg', '7573.jpg', '7581.jpg', '7597.jpg', '7606.jpg', '7616.jpg', '7626.jpg', '7637.jpg', '7646.jpg', '7657.jpg', '7670.jpg', '7681.jpg', '7692.jpg', '7703.jpg', '7714.jpg', '7725.jpg', '7736.jpg', '7746.jpg', '7758.jpg', '7769.jpg', '7778.jpg', '7789.jpg', '7801.jpg', '7811.jpg', '7822.jpg', '7833.jpg', '7844.jpg', '7857.jpg', '7866.jpg', '7875.jpg', '7884.jpg', '7896.jpg', '7906.jpg', '7916.jpg', '7925.jpg', '7936.jpg', '7945.jpg', '7954.jpg', '7966.jpg', '7975.jpg', '798.jpg', '7984.jpg', '7992.jpg', '8001.jpg', '8011.jpg', '8021.jpg', '8029.jpg', '8043.jpg', '8051.jpg', '8063.jpg', '8075.jpg', '8085.jpg', '8097.jpg', '8107.jpg', '8117.jpg', '8127.jpg', '8137.jpg', '818.jpg', '843.jpg', '8673.jpg', '8689.jpg', '8703.jpg', '871.jpg', '8716.jpg', '8727.jpg', '8739.jpg', '8749.jpg', '8761.jpg', '8773.jpg', '8783.jpg', '8795.jpg', '8803.jpg', '8815.jpg', '8827.jpg', '8837.jpg', '8849.jpg', '8861.jpg', '8873.jpg', '8883.jpg', '8897.jpg', '8909.jpg', '891.jpg', '8919.jpg', '8931.jpg', '8945.jpg', '8955.jpg', '8965.jpg', '8976.jpg', '8989.jpg', '9003.jpg', '9013.jpg', '9025.jpg', '9037.jpg', '9047.jpg', '9059.jpg', '9069.jpg', '9079.jpg', '9088.jpg', '9101.jpg', '9109.jpg', '9125.jpg', '9139.jpg', '914.jpg', '9153.jpg', '9165.jpg', '9178.jpg', '9189.jpg', '9201.jpg', '9213.jpg', '9227.jpg', '9269.jpg', '9283.jpg', '9295.jpg', '9307.jpg', '9317.jpg', '9329.jpg', '9341.jpg', '9352.jpg', '9365.jpg', '9377.jpg', '9388.jpg', '9399.jpg', '9411.jpg', '9423.jpg', '9433.jpg', '9443.jpg', '9455.jpg', '9467.jpg', '9477.jpg', '9487.jpg', '9497.jpg', '9509.jpg', '9519.jpg', '9529.jpg', '953.jpg', '9541.jpg', '9550.jpg', '9561.jpg', '9570.jpg', '9581.jpg', '9591.jpg', '9601.jpg', '9611.jpg', '9621.jpg', '9630.jpg', '9639.jpg', '9650.jpg', '9660.jpg', '9669.jpg', '9679.jpg', '9691.jpg', '9701.jpg', '9713.jpg', '9722.jpg', '9733.jpg', '9743.jpg', '9755.jpg', '9764.jpg', '9775.jpg', '9785.jpg', '9795.jpg', '9803.jpg', '9813.jpg', '9823.jpg', '9835.jpg', '9845.jpg', '9857.jpg', '9867.jpg', '9875.jpg', '9885.jpg', '9895.jpg', '9907.jpg', '9916.jpg', '9925.jpg', '9935.jpg', '9945.jpg', '9956.jpg', '9964.jpg', '9974.jpg', '9985.jpg', '9996.jpg']\n",
      "Shape of images array: (5243, 64, 64)\n",
      "Shape of labels array: (5243,)\n"
     ]
    }
   ],
   "source": [
    "import os\n",
    "import cv2\n",
    "import numpy as np\n",
    "\n",
    "# Define the extraction directory\n",
    "extraction_dir = 'Extracted data for hand gesture recognition/HandGesture/images'\n",
    "\n",
    "# Initialize lists to store images and labels\n",
    "images = []\n",
    "labels = []\n",
    "\n",
    "# Define a mapping from folder names to numerical labels\n",
    "label_mapping = {\n",
    "    'call_me': 0,\n",
    "    'fingers_crossed': 1,\n",
    "    'okay': 2,\n",
    "    'paper': 3,\n",
    "    'peace': 4,\n",
    "    'rock': 5,\n",
    "    'rock_on': 6,\n",
    "    'scissor': 7,\n",
    "    'thumbs': 8,\n",
    "    'up': 9\n",
    "}\n",
    "\n",
    "# Loop through the sub-folders in the images folder and load the images\n",
    "for folder_name in os.listdir(extraction_dir):\n",
    "    folder_path = os.path.join(extraction_dir, folder_name)\n",
    "    if os.path.isdir(folder_path):\n",
    "        print(f\"Contents of folder {folder_name}:\", os.listdir(folder_path))\n",
    "        for file_name in os.listdir(folder_path):\n",
    "            file_path = os.path.join(folder_path, file_name)\n",
    "            img = cv2.imread(file_path, cv2.IMREAD_GRAYSCALE)\n",
    "            if img is not None:\n",
    "                img = cv2.resize(img, (64, 64))\n",
    "                images.append(img)\n",
    "                labels.append(label_mapping[folder_name])  # Use the label mapping\n",
    "\n",
    "# Convert lists to numpy arrays\n",
    "images = np.array(images)\n",
    "labels = np.array(labels)\n",
    "\n",
    "# Check the shape of the images and labels arrays\n",
    "print(f\"Shape of images array: {images.shape}\")\n",
    "print(f\"Shape of labels array: {labels.shape}\")\n"
   ]
  },
  {
   "cell_type": "code",
   "execution_count": 5,
   "id": "4206fcb8-fe6d-413c-8120-b6abac9dbb5f",
   "metadata": {},
   "outputs": [
    {
     "data": {
      "text/plain": [
       "array([[[  0,   0,   0, ...,   0,   0,   0],\n",
       "        [  0,   0,   0, ...,   0,   0,   0],\n",
       "        [  0,   0,   0, ...,   0,   0,   0],\n",
       "        ...,\n",
       "        [255, 255, 255, ...,   0,   0,   0],\n",
       "        [255, 255, 255, ...,   0,   0,   0],\n",
       "        [255, 255, 255, ...,   0,   0,   0]],\n",
       "\n",
       "       [[  0,   0,   0, ...,   0,   0,   0],\n",
       "        [  0,   0,   0, ...,   0,   0,   0],\n",
       "        [  0,   0,   0, ...,   0,   0,   0],\n",
       "        ...,\n",
       "        [255, 255, 255, ...,   0,   0,   0],\n",
       "        [255, 255, 255, ...,   0,   0,   0],\n",
       "        [255, 255, 255, ...,   0,   0,   0]],\n",
       "\n",
       "       [[  0,   0,   0, ...,   0,   0,   0],\n",
       "        [  0,   0,   0, ...,   0,   0,   0],\n",
       "        [  0,   0,   0, ...,   0,   0,   0],\n",
       "        ...,\n",
       "        [255, 255, 255, ...,   0,   0,   0],\n",
       "        [255, 255, 255, ...,   0,   0,   0],\n",
       "        [255, 255, 255, ...,   0,   0,   0]],\n",
       "\n",
       "       [[  0,   0,   0, ...,   0,   0,   0],\n",
       "        [  0,   0,   0, ...,   0,   0,   0],\n",
       "        [  0,   0,   0, ...,   0,   0,   0],\n",
       "        ...,\n",
       "        [254, 255,   4, ...,   0,   0,   0],\n",
       "        [254,   0,   0, ...,   0,   0,   0],\n",
       "        [  0,   0,   0, ...,   0,   0,   0]],\n",
       "\n",
       "       [[  0,   0,   0, ...,   0,   0,   0],\n",
       "        [  0,   0,   0, ...,   0,   0,   0],\n",
       "        [  0,   0,   0, ...,   0,   0,   0],\n",
       "        ...,\n",
       "        [255, 249, 255, ...,   0,   0,   0],\n",
       "        [254,  16,   0, ...,   0,   0,   0],\n",
       "        [  7,   1,   0, ...,   0,   0,   0]]], dtype=uint8)"
      ]
     },
     "execution_count": 5,
     "metadata": {},
     "output_type": "execute_result"
    }
   ],
   "source": [
    "images[:5]"
   ]
  },
  {
   "cell_type": "code",
   "execution_count": 6,
   "id": "6c41ffdc-38a8-4abf-a5fc-21503b1d0a32",
   "metadata": {},
   "outputs": [
    {
     "data": {
      "text/plain": [
       "(5243, 64, 64)"
      ]
     },
     "execution_count": 6,
     "metadata": {},
     "output_type": "execute_result"
    }
   ],
   "source": [
    "images.shape"
   ]
  },
  {
   "cell_type": "markdown",
   "id": "87657fce-d121-4cbc-9efa-03409d517037",
   "metadata": {},
   "source": [
    "- **images array** now contains all the images from both the Test and Train folders. \n",
    "- Its shape is (8400, 64, 64) which indicates that you have a total of 8400 images, each resized to 64x64 pixels."
   ]
  },
  {
   "cell_type": "markdown",
   "id": "d994634d-d590-4dae-a33f-4f0388836a62",
   "metadata": {},
   "source": [
    "### Data Augmentation"
   ]
  },
  {
   "cell_type": "markdown",
   "id": "81a07903-acad-4d4d-b355-57684191e6a7",
   "metadata": {},
   "source": [
    "- The .fit() method expects the input array to have a rank of 4, but our array has a shape of (8400, 64, 64, 1, 1).\n",
    "- We can fix this by reshaping your array to remove the extra dimension"
   ]
  },
  {
   "cell_type": "code",
   "execution_count": 7,
   "id": "77c3ce45-4da4-456d-9d15-522fb547f767",
   "metadata": {},
   "outputs": [
    {
     "name": "stdout",
     "output_type": "stream",
     "text": [
      "Shape of images array after reshaping: (5243, 64, 64, 1)\n"
     ]
    }
   ],
   "source": [
    "from tensorflow.keras.preprocessing.image import ImageDataGenerator\n",
    "\n",
    "# Reshape the images array to have a single channel\n",
    "images = images.reshape((images.shape[0], images.shape[1], images.shape[2], 1))\n",
    "\n",
    "# Check the shape of the images array\n",
    "print(f\"Shape of images array after reshaping: {images.shape}\")\n",
    "\n",
    "# Define the ImageDataGenerator for data augmentation\n",
    "datagen = ImageDataGenerator(\n",
    "    rotation_range=20,\n",
    "    width_shift_range=0.2,\n",
    "    height_shift_range=0.2,\n",
    "    shear_range=0.2,\n",
    "    zoom_range=0.2,\n",
    "    horizontal_flip=True,\n",
    "    fill_mode='nearest'\n",
    ")\n",
    "\n",
    "# Fit the ImageDataGenerator to the images\n",
    "datagen.fit(images)\n"
   ]
  },
  {
   "cell_type": "markdown",
   "id": "4d6ac4cf-2941-430d-920a-39a5ea667f0b",
   "metadata": {},
   "source": [
    "### Numerical Operations"
   ]
  },
  {
   "cell_type": "markdown",
   "id": "45391512-daaa-44c0-a999-d6d73e2e7cdf",
   "metadata": {},
   "source": [
    "##### Calculating Mean and Standard Deviation"
   ]
  },
  {
   "cell_type": "code",
   "execution_count": 8,
   "id": "0ba6524d-694c-4b6d-beb0-456b210faff7",
   "metadata": {},
   "outputs": [
    {
     "name": "stdout",
     "output_type": "stream",
     "text": [
      "Mean Pixel Value: 58.523973324179266\n",
      "Standard Deviation of Pixel Values: 106.39146512166239\n"
     ]
    }
   ],
   "source": [
    "mean_pixel_value = np.mean(images)\n",
    "std_pixel_value = np.std(images)\n",
    "\n",
    "print(f\"Mean Pixel Value: {mean_pixel_value}\")\n",
    "print(f\"Standard Deviation of Pixel Values: {std_pixel_value}\")"
   ]
  },
  {
   "cell_type": "markdown",
   "id": "2b28c3d2-098e-4d55-8b2f-5985fd8a6b28",
   "metadata": {},
   "source": [
    "##### Normalization "
   ]
  },
  {
   "cell_type": "code",
   "execution_count": 9,
   "id": "8686c364-5cc9-4068-a351-5ec4525643e0",
   "metadata": {},
   "outputs": [],
   "source": [
    "images_normalized = images / 255.0"
   ]
  },
  {
   "cell_type": "markdown",
   "id": "63677aa1-818a-42cb-8bdb-408a10f4e480",
   "metadata": {},
   "source": [
    "##### Flatten the images"
   ]
  },
  {
   "cell_type": "code",
   "execution_count": 10,
   "id": "b324d900-91f0-4ad7-bcde-da77578ce9ca",
   "metadata": {},
   "outputs": [
    {
     "name": "stdout",
     "output_type": "stream",
     "text": [
      "Shape of Flattened Images: (5243, 4096)\n"
     ]
    }
   ],
   "source": [
    "images_flattened = images.reshape(images.shape[0], -1)\n",
    "print(f\"Shape of Flattened Images: {images_flattened.shape}\")"
   ]
  },
  {
   "cell_type": "markdown",
   "id": "9f27fc9a-e1ae-42fc-8ff8-eacfa13b611e",
   "metadata": {},
   "source": [
    "### Data Visualization"
   ]
  },
  {
   "cell_type": "code",
   "execution_count": 11,
   "id": "300134a2-f8f7-4ecc-9b6b-bd114adf03ee",
   "metadata": {},
   "outputs": [
    {
     "data": {
      "image/png": "[encoded data removed]",
      "text/plain": [
       "<Figure size 640x480 with 1 Axes>"
      ]
     },
     "metadata": {},
     "output_type": "display_data"
    }
   ],
   "source": [
    "import matplotlib.pyplot as plt\n",
    "\n",
    "# Visualize the first image in the dataset\n",
    "plt.imshow(images[1].reshape(64, 64), cmap='gray')\n",
    "plt.title(f\"Label: {labels[4]}\")\n",
    "plt.show();\n"
   ]
  },
  {
   "cell_type": "markdown",
   "id": "f3d8c23f-d7ac-4219-8237-3dd03ad204a1",
   "metadata": {},
   "source": [
    "####  To print only the first image shape for each sub-folder"
   ]
  },
  {
   "cell_type": "code",
   "execution_count": 12,
   "id": "d4d6933a-cb0e-43f0-9fae-7a57a12b1cba",
   "metadata": {},
   "outputs": [
    {
     "name": "stdout",
     "output_type": "stream",
     "text": [
      "Class call_me\n",
      "Image shape: (195, 240) \n",
      "\n",
      "Class fingers_crossed\n",
      "Image shape: (195, 240) \n",
      "\n",
      "Class okay\n",
      "Image shape: (195, 240) \n",
      "\n",
      "Class paper\n",
      "Image shape: (195, 240) \n",
      "\n",
      "Class peace\n",
      "Image shape: (195, 240) \n",
      "\n",
      "Class rock\n",
      "Image shape: (195, 240) \n",
      "\n",
      "Class rock_on\n",
      "Image shape: (195, 240) \n",
      "\n",
      "Class scissor\n",
      "Image shape: (195, 240) \n",
      "\n",
      "Class thumbs\n",
      "Image shape: (195, 240) \n",
      "\n",
      "Class up\n",
      "Image shape: (195, 240) \n",
      "\n"
     ]
    }
   ],
   "source": [
    "# Define the extraction directory\n",
    "extraction_dir = 'Extracted data for hand gesture recognition/HandGesture/images'\n",
    "\n",
    "# Loop through the sub-folders in the images folder and print the shape of the first image\n",
    "for folder_name in os.listdir(extraction_dir):\n",
    "    folder_path = os.path.join(extraction_dir, folder_name)\n",
    "    if os.path.isdir(folder_path):\n",
    "        print('Class', folder_name)\n",
    "        for file_name in os.listdir(folder_path):\n",
    "            file_path = os.path.join(folder_path, file_name)\n",
    "            img_array = cv2.imread(file_path, cv2.IMREAD_GRAYSCALE)\n",
    "            if img_array is not None:\n",
    "                print(\"Image shape:\", img_array.shape, \"\\n\")\n",
    "            break  \n"
   ]
  },
  {
   "cell_type": "markdown",
   "id": "e09997c0-5d1a-4a0f-a169-82fcacf680e4",
   "metadata": {},
   "source": [
    "#### Checking Sizes of images "
   ]
  },
  {
   "cell_type": "code",
   "execution_count": 13,
   "id": "0084cc0a-511e-4411-b6bb-8776c6e0d1bc",
   "metadata": {},
   "outputs": [
    {
     "name": "stdout",
     "output_type": "stream",
     "text": [
      "All images have the same size: (195, 240)\n"
     ]
    },
    {
     "data": {
      "text/plain": [
       "True"
      ]
     },
     "execution_count": 13,
     "metadata": {},
     "output_type": "execute_result"
    }
   ],
   "source": [
    "# Define the extraction directory\n",
    "extraction_dir = 'Extracted data for hand gesture recognition/HandGesture/images'\n",
    "\n",
    "def check_image_sizes():\n",
    "    first_img_shape = None\n",
    "    for folder_name in os.listdir(extraction_dir):\n",
    "        folder_path = os.path.join(extraction_dir, folder_name)\n",
    "        if os.path.isdir(folder_path):\n",
    "            for file_name in os.listdir(folder_path):\n",
    "                file_path = os.path.join(folder_path, file_name)\n",
    "                img_array = cv2.imread(file_path, cv2.IMREAD_GRAYSCALE)\n",
    "                if img_array is None:\n",
    "                    continue\n",
    "                if first_img_shape is None:\n",
    "                    first_img_shape = img_array.shape\n",
    "                elif img_array.shape != first_img_shape:\n",
    "                    print(\"Image sizes are not consistent.\")\n",
    "                    return False\n",
    "    print(\"All images have the same size:\", first_img_shape)\n",
    "    return True\n",
    "\n",
    "check_image_sizes()\n"
   ]
  },
  {
   "cell_type": "markdown",
   "id": "de943aee-eac5-48d4-94b8-0c4ffe519d2f",
   "metadata": {},
   "source": [
    "#### Shuffling Data"
   ]
  },
  {
   "cell_type": "code",
   "execution_count": 14,
   "id": "bd877858-9871-4b19-94e0-71686e014162",
   "metadata": {},
   "outputs": [],
   "source": [
    "# Reshape the images array to have a single channel\n",
    "images = images.reshape((images.shape[0], images.shape[1], images.shape[2], 1))\n",
    "\n",
    "# Shuffle the training data\n",
    "training_data = list(zip(images, labels))\n",
    "np.random.shuffle(training_data)\n"
   ]
  },
  {
   "cell_type": "markdown",
   "id": "01c7d453-c335-43c2-9bae-8a2215956292",
   "metadata": {},
   "source": [
    "### Data Preprocessing"
   ]
  },
  {
   "cell_type": "code",
   "execution_count": 15,
   "id": "fbdcf20f-8d4d-470a-858f-bc4881f93d9d",
   "metadata": {},
   "outputs": [
    {
     "name": "stdout",
     "output_type": "stream",
     "text": [
      "Shape of X array: (5243, 64, 64, 1)\n",
      "Shape of y array: (5243,)\n"
     ]
    }
   ],
   "source": [
    "# Feature selection\n",
    "X = []\n",
    "y = []\n",
    "\n",
    "for feature, label in training_data:\n",
    "    X.append(feature)\n",
    "    y.append(label)\n",
    "\n",
    "# Convert lists to numpy arrays\n",
    "X = np.array(X)\n",
    "y = np.array(y)\n",
    "\n",
    "# Check the shape of the feature and label arrays\n",
    "print(f\"Shape of X array: {X.shape}\")\n",
    "print(f\"Shape of y array: {y.shape}\")\n"
   ]
  },
  {
   "cell_type": "code",
   "execution_count": 16,
   "id": "37b6a58d-4f70-46d4-a535-59db8bbd3a85",
   "metadata": {},
   "outputs": [
    {
     "name": "stdout",
     "output_type": "stream",
     "text": [
      "<class 'numpy.ndarray'>\n",
      "<class 'numpy.ndarray'>\n"
     ]
    }
   ],
   "source": [
    "print(type(X))\n",
    "print(type(y))"
   ]
  },
  {
   "cell_type": "markdown",
   "id": "afccbe93-0b0c-41f4-9cc1-73638dfa697e",
   "metadata": {},
   "source": [
    "##### Converting it into numpy arrays"
   ]
  },
  {
   "cell_type": "code",
   "execution_count": 17,
   "id": "c6ebb6c6-1143-4d0b-a0f8-fea113edd031",
   "metadata": {},
   "outputs": [
    {
     "name": "stdout",
     "output_type": "stream",
     "text": [
      "(5243, 64, 64, 1)\n",
      "(5243,)\n"
     ]
    }
   ],
   "source": [
    "X=np.array(X)\n",
    "y=np.array(y)\n",
    "print(X.shape)\n",
    "print(y.shape)"
   ]
  },
  {
   "cell_type": "markdown",
   "id": "160f419d-2b86-4f56-aece-f07974fc0c53",
   "metadata": {},
   "source": [
    "##### Splitting the Data"
   ]
  },
  {
   "cell_type": "code",
   "execution_count": 18,
   "id": "d1476db0-6dac-4140-88b1-903177b52ca4",
   "metadata": {},
   "outputs": [
    {
     "name": "stdout",
     "output_type": "stream",
     "text": [
      "(4194, 64, 64, 1)\n",
      "(4194,)\n",
      "(1049, 64, 64, 1)\n",
      "(1049,)\n"
     ]
    }
   ],
   "source": [
    "from sklearn.model_selection import train_test_split\n",
    "X_train, X_test, y_train, y_test = train_test_split(X, y, test_size=0.2)\n",
    "\n",
    "print(X_train.shape)\n",
    "print(y_train.shape)\n",
    "print(X_test.shape)\n",
    "print(y_test.shape)"
   ]
  },
  {
   "cell_type": "code",
   "execution_count": 19,
   "id": "3c269150-c37e-4626-a401-5fe0b31a78d9",
   "metadata": {},
   "outputs": [
    {
     "name": "stdout",
     "output_type": "stream",
     "text": [
      "[0 1 2 3 4 5 6 7 8 9]\n",
      "[0 1 2 3 4 5 6 7 8 9]\n"
     ]
    }
   ],
   "source": [
    "#Getting Class Names\n",
    "print(np.unique(y_train))\n",
    "print(np.unique(y_test))"
   ]
  },
  {
   "cell_type": "markdown",
   "id": "899e3d56-2059-4878-9920-d323c9cec2f8",
   "metadata": {},
   "source": [
    "#### Scaling the Data "
   ]
  },
  {
   "cell_type": "code",
   "execution_count": 20,
   "id": "c76563d9-ec68-4961-b83c-0447ffa4f18b",
   "metadata": {},
   "outputs": [],
   "source": [
    "X_train = X_train/255\n",
    "X_test = X_test/255"
   ]
  },
  {
   "cell_type": "code",
   "execution_count": 21,
   "id": "0d1f29e6-9066-4456-a581-9c3e128eca20",
   "metadata": {},
   "outputs": [
    {
     "name": "stdout",
     "output_type": "stream",
     "text": [
      "[[[0.]\n",
      "  [0.]\n",
      "  [0.]\n",
      "  ...\n",
      "  [0.]\n",
      "  [0.]\n",
      "  [0.]]\n",
      "\n",
      " [[0.]\n",
      "  [0.]\n",
      "  [0.]\n",
      "  ...\n",
      "  [0.]\n",
      "  [0.]\n",
      "  [0.]]\n",
      "\n",
      " [[0.]\n",
      "  [0.]\n",
      "  [0.]\n",
      "  ...\n",
      "  [0.]\n",
      "  [0.]\n",
      "  [0.]]\n",
      "\n",
      " ...\n",
      "\n",
      " [[0.]\n",
      "  [0.]\n",
      "  [0.]\n",
      "  ...\n",
      "  [0.]\n",
      "  [0.]\n",
      "  [0.]]\n",
      "\n",
      " [[0.]\n",
      "  [0.]\n",
      "  [0.]\n",
      "  ...\n",
      "  [0.]\n",
      "  [0.]\n",
      "  [0.]]\n",
      "\n",
      " [[0.]\n",
      "  [0.]\n",
      "  [0.]\n",
      "  ...\n",
      "  [0.]\n",
      "  [0.]\n",
      "  [0.]]]\n"
     ]
    }
   ],
   "source": [
    "#After scaling\n",
    "print(X_train[2])"
   ]
  },
  {
   "cell_type": "markdown",
   "id": "20ba3fc0-d550-4840-882a-55d7e06a35aa",
   "metadata": {},
   "source": [
    "### Modelling Time"
   ]
  },
  {
   "cell_type": "markdown",
   "id": "744f21bf-1aac-41f1-9f0e-8278f99b88fd",
   "metadata": {},
   "source": [
    "**Building Multi-Neural Network**"
   ]
  },
  {
   "cell_type": "markdown",
   "id": "cbcb2230-e157-4bed-831c-1a57295ac6a3",
   "metadata": {},
   "source": [
    "**Compiling The Model**"
   ]
  },
  {
   "cell_type": "code",
   "execution_count": 22,
   "id": "41ce8148-dd56-43b6-9fc9-e4c1d93dcd22",
   "metadata": {},
   "outputs": [],
   "source": [
    "from tensorflow.keras.models import Sequential\n",
    "from tensorflow.keras.layers import Input, Flatten, Dense, LeakyReLU\n",
    "\n",
    "model = Sequential([\n",
    "    Input(shape=(64, 64, 1)),\n",
    "    Flatten(),\n",
    "    #Dense(1024),\n",
    "    #LeakyReLU(negative_slope=0.1),\n",
    "    #Dense(512),\n",
    "    #LeakyReLU(negative_slope=0.1),\n",
    "    #Dense(256),\n",
    "    #LeakyReLU(negative_slope=0.1),\n",
    "    #Dense(128),\n",
    "    #LeakyReLU(negative_slope=0.1),\n",
    "    #Dense(64),\n",
    "    #LeakyReLU(negative_slope=0.1),\n",
    "    Dense(32),\n",
    "    LeakyReLU(negative_slope=0.1),\n",
    "    Dense(16),\n",
    "    LeakyReLU(negative_slope=0.1),\n",
    "    Dense(10, activation='softmax')\n",
    "])\n"
   ]
  },
  {
   "cell_type": "markdown",
   "id": "a62fd8e4-b708-46b4-b75b-b4e6f6e990b4",
   "metadata": {},
   "source": [
    "- Commenting the layers/parameters and simplifying the model reduced the risk of overfitting and helped it generalize better to new data, leading to more accurate predictions."
   ]
  },
  {
   "cell_type": "code",
   "execution_count": 23,
   "id": "095f05a9-27c9-466c-8b2a-5a7b2c026726",
   "metadata": {},
   "outputs": [],
   "source": [
    "model.compile(optimizer='adam', loss='sparse_categorical_crossentropy', metrics=['accuracy'])\n",
    "#'adam'optimizer - Combines the advantages of two other extensions of stochastic gradient descent (SGD), namely AdaGrad and RMSProp"
   ]
  },
  {
   "cell_type": "markdown",
   "id": "b8e695e9-ebce-43c9-aa01-54854a241e66",
   "metadata": {},
   "source": [
    "**Training the model**"
   ]
  },
  {
   "cell_type": "code",
   "execution_count": 24,
   "id": "ae965b13-f6c9-47f4-b35f-982a231859ca",
   "metadata": {},
   "outputs": [
    {
     "name": "stdout",
     "output_type": "stream",
     "text": [
      "Epoch 1/10\n",
      "118/118 - 3s - 25ms/step - accuracy: 0.3646 - loss: 1.7566 - val_accuracy: 0.4667 - val_loss: 1.4632\n",
      "Epoch 2/10\n",
      "118/118 - 1s - 6ms/step - accuracy: 0.6131 - loss: 1.1523 - val_accuracy: 0.6452 - val_loss: 1.1336\n",
      "Epoch 3/10\n",
      "118/118 - 1s - 6ms/step - accuracy: 0.7300 - loss: 0.8406 - val_accuracy: 0.6881 - val_loss: 0.9323\n",
      "Epoch 4/10\n",
      "118/118 - 1s - 6ms/step - accuracy: 0.8039 - loss: 0.6476 - val_accuracy: 0.7310 - val_loss: 0.8274\n",
      "Epoch 5/10\n",
      "118/118 - 1s - 6ms/step - accuracy: 0.8434 - loss: 0.5199 - val_accuracy: 0.7429 - val_loss: 0.8191\n",
      "Epoch 6/10\n",
      "118/118 - 1s - 6ms/step - accuracy: 0.8805 - loss: 0.4157 - val_accuracy: 0.7714 - val_loss: 0.7906\n",
      "Epoch 7/10\n",
      "118/118 - 1s - 6ms/step - accuracy: 0.9065 - loss: 0.3331 - val_accuracy: 0.7833 - val_loss: 0.7396\n",
      "Epoch 8/10\n",
      "118/118 - 1s - 6ms/step - accuracy: 0.9197 - loss: 0.2852 - val_accuracy: 0.7595 - val_loss: 0.7731\n",
      "Epoch 9/10\n",
      "118/118 - 1s - 6ms/step - accuracy: 0.9396 - loss: 0.2301 - val_accuracy: 0.7690 - val_loss: 0.7829\n",
      "Epoch 10/10\n",
      "118/118 - 1s - 6ms/step - accuracy: 0.9565 - loss: 0.1803 - val_accuracy: 0.7976 - val_loss: 0.6925\n"
     ]
    }
   ],
   "source": [
    "history = model.fit(X_train, y_train, epochs=10, validation_split=0.1, batch_size=32, verbose=2)"
   ]
  },
  {
   "cell_type": "code",
   "execution_count": 25,
   "id": "ce9d631a-8669-433a-9159-8b29b0401690",
   "metadata": {},
   "outputs": [
    {
     "data": {
      "text/html": [
       "<pre style=\"white-space:pre;overflow-x:auto;line-height:normal;font-family:Menlo,'DejaVu Sans Mono',consolas,'Courier New',monospace\"><span style=\"font-weight: bold\">Model: \"sequential\"</span>\n",
       "</pre>\n"
      ],
      "text/plain": [
       "\u001b[1mModel: \"sequential\"\u001b[0m\n"
      ]
     },
     "metadata": {},
     "output_type": "display_data"
    },
    {
     "data": {
      "text/html": [
       "<pre style=\"white-space:pre;overflow-x:auto;line-height:normal;font-family:Menlo,'DejaVu Sans Mono',consolas,'Courier New',monospace\">┏━━━━━━━━━━━━━━━━━━━━━━━━━━━━━━━━━━━━━━┳━━━━━━━━━━━━━━━━━━━━━━━━━━━━━┳━━━━━━━━━━━━━━━━━┓\n",
       "┃<span style=\"font-weight: bold\"> Layer (type)                         </span>┃<span style=\"font-weight: bold\"> Output Shape                </span>┃<span style=\"font-weight: bold\">         Param # </span>┃\n",
       "┡━━━━━━━━━━━━━━━━━━━━━━━━━━━━━━━━━━━━━━╇━━━━━━━━━━━━━━━━━━━━━━━━━━━━━╇━━━━━━━━━━━━━━━━━┩\n",
       "│ flatten (<span style=\"color: #0087ff; text-decoration-color: #0087ff\">Flatten</span>)                    │ (<span style=\"color: #00d7ff; text-decoration-color: #00d7ff\">None</span>, <span style=\"color: #00af00; text-decoration-color: #00af00\">4096</span>)                │               <span style=\"color: #00af00; text-decoration-color: #00af00\">0</span> │\n",
       "├──────────────────────────────────────┼─────────────────────────────┼─────────────────┤\n",
       "│ dense (<span style=\"color: #0087ff; text-decoration-color: #0087ff\">Dense</span>)                        │ (<span style=\"color: #00d7ff; text-decoration-color: #00d7ff\">None</span>, <span style=\"color: #00af00; text-decoration-color: #00af00\">32</span>)                  │         <span style=\"color: #00af00; text-decoration-color: #00af00\">131,104</span> │\n",
       "├──────────────────────────────────────┼─────────────────────────────┼─────────────────┤\n",
       "│ leaky_re_lu (<span style=\"color: #0087ff; text-decoration-color: #0087ff\">LeakyReLU</span>)              │ (<span style=\"color: #00d7ff; text-decoration-color: #00d7ff\">None</span>, <span style=\"color: #00af00; text-decoration-color: #00af00\">32</span>)                  │               <span style=\"color: #00af00; text-decoration-color: #00af00\">0</span> │\n",
       "├──────────────────────────────────────┼─────────────────────────────┼─────────────────┤\n",
       "│ dense_1 (<span style=\"color: #0087ff; text-decoration-color: #0087ff\">Dense</span>)                      │ (<span style=\"color: #00d7ff; text-decoration-color: #00d7ff\">None</span>, <span style=\"color: #00af00; text-decoration-color: #00af00\">16</span>)                  │             <span style=\"color: #00af00; text-decoration-color: #00af00\">528</span> │\n",
       "├──────────────────────────────────────┼─────────────────────────────┼─────────────────┤\n",
       "│ leaky_re_lu_1 (<span style=\"color: #0087ff; text-decoration-color: #0087ff\">LeakyReLU</span>)            │ (<span style=\"color: #00d7ff; text-decoration-color: #00d7ff\">None</span>, <span style=\"color: #00af00; text-decoration-color: #00af00\">16</span>)                  │               <span style=\"color: #00af00; text-decoration-color: #00af00\">0</span> │\n",
       "├──────────────────────────────────────┼─────────────────────────────┼─────────────────┤\n",
       "│ dense_2 (<span style=\"color: #0087ff; text-decoration-color: #0087ff\">Dense</span>)                      │ (<span style=\"color: #00d7ff; text-decoration-color: #00d7ff\">None</span>, <span style=\"color: #00af00; text-decoration-color: #00af00\">10</span>)                  │             <span style=\"color: #00af00; text-decoration-color: #00af00\">170</span> │\n",
       "└──────────────────────────────────────┴─────────────────────────────┴─────────────────┘\n",
       "</pre>\n"
      ],
      "text/plain": [
       "┏━━━━━━━━━━━━━━━━━━━━━━━━━━━━━━━━━━━━━━┳━━━━━━━━━━━━━━━━━━━━━━━━━━━━━┳━━━━━━━━━━━━━━━━━┓\n",
       "┃\u001b[1m \u001b[0m\u001b[1mLayer (type)                        \u001b[0m\u001b[1m \u001b[0m┃\u001b[1m \u001b[0m\u001b[1mOutput Shape               \u001b[0m\u001b[1m \u001b[0m┃\u001b[1m \u001b[0m\u001b[1m        Param #\u001b[0m\u001b[1m \u001b[0m┃\n",
       "┡━━━━━━━━━━━━━━━━━━━━━━━━━━━━━━━━━━━━━━╇━━━━━━━━━━━━━━━━━━━━━━━━━━━━━╇━━━━━━━━━━━━━━━━━┩\n",
       "│ flatten (\u001b[38;5;33mFlatten\u001b[0m)                    │ (\u001b[38;5;45mNone\u001b[0m, \u001b[38;5;34m4096\u001b[0m)                │               \u001b[38;5;34m0\u001b[0m │\n",
       "├──────────────────────────────────────┼─────────────────────────────┼─────────────────┤\n",
       "│ dense (\u001b[38;5;33mDense\u001b[0m)                        │ (\u001b[38;5;45mNone\u001b[0m, \u001b[38;5;34m32\u001b[0m)                  │         \u001b[38;5;34m131,104\u001b[0m │\n",
       "├──────────────────────────────────────┼─────────────────────────────┼─────────────────┤\n",
       "│ leaky_re_lu (\u001b[38;5;33mLeakyReLU\u001b[0m)              │ (\u001b[38;5;45mNone\u001b[0m, \u001b[38;5;34m32\u001b[0m)                  │               \u001b[38;5;34m0\u001b[0m │\n",
       "├──────────────────────────────────────┼─────────────────────────────┼─────────────────┤\n",
       "│ dense_1 (\u001b[38;5;33mDense\u001b[0m)                      │ (\u001b[38;5;45mNone\u001b[0m, \u001b[38;5;34m16\u001b[0m)                  │             \u001b[38;5;34m528\u001b[0m │\n",
       "├──────────────────────────────────────┼─────────────────────────────┼─────────────────┤\n",
       "│ leaky_re_lu_1 (\u001b[38;5;33mLeakyReLU\u001b[0m)            │ (\u001b[38;5;45mNone\u001b[0m, \u001b[38;5;34m16\u001b[0m)                  │               \u001b[38;5;34m0\u001b[0m │\n",
       "├──────────────────────────────────────┼─────────────────────────────┼─────────────────┤\n",
       "│ dense_2 (\u001b[38;5;33mDense\u001b[0m)                      │ (\u001b[38;5;45mNone\u001b[0m, \u001b[38;5;34m10\u001b[0m)                  │             \u001b[38;5;34m170\u001b[0m │\n",
       "└──────────────────────────────────────┴─────────────────────────────┴─────────────────┘\n"
      ]
     },
     "metadata": {},
     "output_type": "display_data"
    },
    {
     "data": {
      "text/html": [
       "<pre style=\"white-space:pre;overflow-x:auto;line-height:normal;font-family:Menlo,'DejaVu Sans Mono',consolas,'Courier New',monospace\"><span style=\"font-weight: bold\"> Total params: </span><span style=\"color: #00af00; text-decoration-color: #00af00\">395,408</span> (1.51 MB)\n",
       "</pre>\n"
      ],
      "text/plain": [
       "\u001b[1m Total params: \u001b[0m\u001b[38;5;34m395,408\u001b[0m (1.51 MB)\n"
      ]
     },
     "metadata": {},
     "output_type": "display_data"
    },
    {
     "data": {
      "text/html": [
       "<pre style=\"white-space:pre;overflow-x:auto;line-height:normal;font-family:Menlo,'DejaVu Sans Mono',consolas,'Courier New',monospace\"><span style=\"font-weight: bold\"> Trainable params: </span><span style=\"color: #00af00; text-decoration-color: #00af00\">131,802</span> (514.85 KB)\n",
       "</pre>\n"
      ],
      "text/plain": [
       "\u001b[1m Trainable params: \u001b[0m\u001b[38;5;34m131,802\u001b[0m (514.85 KB)\n"
      ]
     },
     "metadata": {},
     "output_type": "display_data"
    },
    {
     "data": {
      "text/html": [
       "<pre style=\"white-space:pre;overflow-x:auto;line-height:normal;font-family:Menlo,'DejaVu Sans Mono',consolas,'Courier New',monospace\"><span style=\"font-weight: bold\"> Non-trainable params: </span><span style=\"color: #00af00; text-decoration-color: #00af00\">0</span> (0.00 B)\n",
       "</pre>\n"
      ],
      "text/plain": [
       "\u001b[1m Non-trainable params: \u001b[0m\u001b[38;5;34m0\u001b[0m (0.00 B)\n"
      ]
     },
     "metadata": {},
     "output_type": "display_data"
    },
    {
     "data": {
      "text/html": [
       "<pre style=\"white-space:pre;overflow-x:auto;line-height:normal;font-family:Menlo,'DejaVu Sans Mono',consolas,'Courier New',monospace\"><span style=\"font-weight: bold\"> Optimizer params: </span><span style=\"color: #00af00; text-decoration-color: #00af00\">263,606</span> (1.01 MB)\n",
       "</pre>\n"
      ],
      "text/plain": [
       "\u001b[1m Optimizer params: \u001b[0m\u001b[38;5;34m263,606\u001b[0m (1.01 MB)\n"
      ]
     },
     "metadata": {},
     "output_type": "display_data"
    }
   ],
   "source": [
    "#Summary of model\n",
    "model.summary()"
   ]
  },
  {
   "cell_type": "markdown",
   "id": "bdcabaad-2c32-44df-b731-31afda71a6ec",
   "metadata": {},
   "source": [
    "### Evaluation Time"
   ]
  },
  {
   "cell_type": "markdown",
   "id": "9976d790-8ae4-4716-bd24-532c42b88d76",
   "metadata": {},
   "source": [
    "**Training Loss**"
   ]
  },
  {
   "cell_type": "code",
   "execution_count": 26,
   "id": "4c833ce6-61df-461b-954f-cca2dd4346af",
   "metadata": {},
   "outputs": [
    {
     "name": "stdout",
     "output_type": "stream",
     "text": [
      "\u001b[1m132/132\u001b[0m \u001b[32m━━━━━━━━━━━━━━━━━━━━\u001b[0m\u001b[37m\u001b[0m \u001b[1m1s\u001b[0m 4ms/step - accuracy: 0.9648 - loss: 0.1566\n",
      "Training Loss: 0.2065\n",
      "Training Accuracy: 94.90%\n"
     ]
    }
   ],
   "source": [
    "loss, accuracy = model.evaluate(X_train, y_train)\n",
    "print(f\"Training Loss: {loss:.4f}\")\n",
    "print(f\"Training Accuracy: {accuracy*100:.2f}%\")"
   ]
  },
  {
   "cell_type": "markdown",
   "id": "dadb1c94-cde7-48a1-a81a-aa5dd59bcc24",
   "metadata": {},
   "source": [
    "**Testing Loss**"
   ]
  },
  {
   "cell_type": "code",
   "execution_count": 27,
   "id": "917186a1-2a39-4d55-9908-14921ba94915",
   "metadata": {},
   "outputs": [
    {
     "name": "stdout",
     "output_type": "stream",
     "text": [
      "\u001b[1m33/33\u001b[0m \u001b[32m━━━━━━━━━━━━━━━━━━━━\u001b[0m\u001b[37m\u001b[0m \u001b[1m0s\u001b[0m 5ms/step - accuracy: 0.8180 - loss: 0.6346\n",
      "Testing Loss: 0.6678\n",
      "Testing Accuracy : 80.08 %\n"
     ]
    }
   ],
   "source": [
    "loss, accuracy = model.evaluate(X_test, y_test)\n",
    "print(f\"Testing Loss: {loss:.4f}\")\n",
    "print(f\"Testing Accuracy : {accuracy*100:.2f} %\")"
   ]
  },
  {
   "cell_type": "markdown",
   "id": "183e5011-7c48-4e7f-a3cc-e061846d0e31",
   "metadata": {},
   "source": [
    "#### Model Evaluating with Visualization "
   ]
  },
  {
   "cell_type": "code",
   "execution_count": 28,
   "id": "91340b8d-3fdc-4e03-b11c-59c0dbf56062",
   "metadata": {},
   "outputs": [
    {
     "data": {
      "image/png": "[encoded data removed]",
      "text/plain": [
       "<Figure size 640x480 with 1 Axes>"
      ]
     },
     "metadata": {},
     "output_type": "display_data"
    }
   ],
   "source": [
    "plt.plot(history.history['loss'])\n",
    "plt.plot(history.history['val_loss'])\n",
    "plt.title('Model Loss')\n",
    "plt.xlabel('epoch')\n",
    "plt.ylabel('loss')\n",
    "plt.legend(['train', 'test'], loc='upper left')\n",
    "plt.show();"
   ]
  },
  {
   "cell_type": "code",
   "execution_count": 29,
   "id": "e9b85038-6d2e-4cd7-b72d-45dce83bf7f4",
   "metadata": {},
   "outputs": [
    {
     "data": {
      "image/png": "[encoded data removed]",
      "text/plain": [
       "<Figure size 640x480 with 1 Axes>"
      ]
     },
     "metadata": {},
     "output_type": "display_data"
    }
   ],
   "source": [
    "plt.plot(history.history['accuracy'])\n",
    "plt.plot(history.history['val_accuracy'])\n",
    "plt.title('Model Accuracy')\n",
    "plt.xlabel('epoch')\n",
    "plt.ylabel('accuracy')\n",
    "plt.legend(['train', 'test'], loc='upper left')\n",
    "plt.show();"
   ]
  },
  {
   "cell_type": "markdown",
   "id": "5ac957b0-56b4-4bcd-ba75-d0591a1f0e76",
   "metadata": {},
   "source": [
    "### Predictions "
   ]
  },
  {
   "cell_type": "code",
   "execution_count": 30,
   "id": "c041bfdc-24e6-4c66-873f-499b1184987e",
   "metadata": {},
   "outputs": [
    {
     "name": "stdout",
     "output_type": "stream",
     "text": [
      "\u001b[1m33/33\u001b[0m \u001b[32m━━━━━━━━━━━━━━━━━━━━\u001b[0m\u001b[37m\u001b[0m \u001b[1m0s\u001b[0m 6ms/step\n",
      "[1.9468614e-04 2.3117160e-07 2.9665150e-04 2.3055172e-03 1.7870715e-03\n",
      " 9.9233717e-01 2.5515306e-05 2.9260956e-03 8.5657128e-05 4.1367399e-05]\n"
     ]
    }
   ],
   "source": [
    "y_pred=model.predict(X_test)\n",
    "print(y_pred[0])"
   ]
  },
  {
   "cell_type": "code",
   "execution_count": 31,
   "id": "d55e67dd-a86f-4a09-bfbb-e9ef7ed589ad",
   "metadata": {},
   "outputs": [
    {
     "name": "stdout",
     "output_type": "stream",
     "text": [
      "7\n"
     ]
    }
   ],
   "source": [
    "y_pred = [np.argmax(i) for i in y_pred]\n",
    "print(y_pred[4])"
   ]
  },
  {
   "cell_type": "markdown",
   "id": "7ed83afd-48ad-42ad-a2d0-80170e347009",
   "metadata": {},
   "source": [
    "**Comparison b/w y_test and y_pred**"
   ]
  },
  {
   "cell_type": "code",
   "execution_count": 32,
   "id": "ea04d9fe-7edb-452c-952e-2879dcc63c6a",
   "metadata": {},
   "outputs": [
    {
     "name": "stdout",
     "output_type": "stream",
     "text": [
      "    Actual  Predicted\n",
      "0        5          5\n",
      "1        9          9\n",
      "2        2          2\n",
      "3        9          9\n",
      "4        7          7\n",
      "5        1          1\n",
      "6        3          3\n",
      "7        5          5\n",
      "8        4          4\n",
      "9        5          5\n",
      "10       6          6\n",
      "11       0          0\n",
      "12       8          8\n",
      "13       8          8\n",
      "14       7          7\n",
      "15       9          9\n",
      "16       9          9\n",
      "17       1          1\n",
      "18       7          7\n",
      "19       8          7\n"
     ]
    }
   ],
   "source": [
    "comparison_df = pd.DataFrame({ 'Actual': y_test,'Predicted': y_pred})\n",
    "\n",
    "print(comparison_df[:20])"
   ]
  },
  {
   "cell_type": "markdown",
   "id": "737fd5f7-903e-4931-9661-ce5e3423863d",
   "metadata": {},
   "source": [
    "### Confusion Matrix"
   ]
  },
  {
   "cell_type": "code",
   "execution_count": 33,
   "id": "1353dd8d-1a40-4797-845b-1a4e18a023b0",
   "metadata": {},
   "outputs": [
    {
     "name": "stdout",
     "output_type": "stream",
     "text": [
      "tf.Tensor(\n",
      "[[ 82   0   1   1   0   3   0   2   1   0]\n",
      " [  0  75   0   0   3   0   2   1   2   6]\n",
      " [  0   0  94   1   1   7   0   1   0   0]\n",
      " [  0   2  27  46  10   5   0   2   1   2]\n",
      " [  0   6   0   5  78   0   5  10   0   1]\n",
      " [  0   1   4   0   2  95   0   3   1   0]\n",
      " [  0   2   1   1  11   0 100   2   0   0]\n",
      " [  5   8   3   5   8   3   0  71   3   2]\n",
      " [  9   1   0   0   0   2   0   8  90   0]\n",
      " [  1   6   2   1   3   3   0   0   0 109]], shape=(10, 10), dtype=int32)\n"
     ]
    }
   ],
   "source": [
    "conf_mat = confusion_matrix(y_test, y_pred)\n",
    "print(conf_mat)"
   ]
  },
  {
   "cell_type": "code",
   "execution_count": 34,
   "id": "537f83dd-ccec-41a2-b732-b3fff3021a3c",
   "metadata": {},
   "outputs": [
    {
     "data": {
      "image/png": "[encoded data removed]",
      "text/plain": [
       "<Figure size 1500x700 with 2 Axes>"
      ]
     },
     "metadata": {},
     "output_type": "display_data"
    }
   ],
   "source": [
    "plt.figure(figsize=(15,7))\n",
    "sns.heatmap(conf_mat, annot=True, fmt='d', cmap='bone')\n",
    "plt.ylabel('True Labels')\n",
    "plt.xlabel('Predicted Labels')\n",
    "plt.show();"
   ]
  },
  {
   "cell_type": "markdown",
   "id": "f2b32e49-47a5-4554-9b78-92cfd0a841f5",
   "metadata": {},
   "source": [
    "#### Classification Report"
   ]
  },
  {
   "cell_type": "code",
   "execution_count": 35,
   "id": "44446f32-e5bb-423c-8791-7aeb6fd1c0f4",
   "metadata": {},
   "outputs": [
    {
     "name": "stdout",
     "output_type": "stream",
     "text": [
      "              precision    recall  f1-score   support\n",
      "\n",
      "           0       0.85      0.91      0.88        90\n",
      "           1       0.74      0.84      0.79        89\n",
      "           2       0.71      0.90      0.80       104\n",
      "           3       0.77      0.48      0.59        95\n",
      "           4       0.67      0.74      0.71       105\n",
      "           5       0.81      0.90      0.85       106\n",
      "           6       0.93      0.85      0.89       117\n",
      "           7       0.71      0.66      0.68       108\n",
      "           8       0.92      0.82      0.87       110\n",
      "           9       0.91      0.87      0.89       125\n",
      "\n",
      "    accuracy                           0.80      1049\n",
      "   macro avg       0.80      0.80      0.79      1049\n",
      "weighted avg       0.81      0.80      0.80      1049\n",
      "\n"
     ]
    }
   ],
   "source": [
    "from sklearn.metrics import classification_report\n",
    "print(classification_report(y_test,y_pred))"
   ]
  },
  {
   "cell_type": "code",
   "execution_count": 36,
   "id": "85559cb4-b017-4549-be4a-354404d67de5",
   "metadata": {},
   "outputs": [
    {
     "name": "stdout",
     "output_type": "stream",
     "text": [
      "\u001b[1m33/33\u001b[0m \u001b[32m━━━━━━━━━━━━━━━━━━━━\u001b[0m\u001b[37m\u001b[0m \u001b[1m0s\u001b[0m 5ms/step - accuracy: 0.8180 - loss: 0.6346\n",
      "Test Loss: 0.6678\n",
      "Test Accuracy: 80.08%\n",
      "\u001b[1m33/33\u001b[0m \u001b[32m━━━━━━━━━━━━━━━━━━━━\u001b[0m\u001b[37m\u001b[0m \u001b[1m0s\u001b[0m 4ms/step\n"
     ]
    },
    {
     "data": {
      "image/png": "[encoded data removed]",
      "text/plain": [
       "<Figure size 1000x800 with 2 Axes>"
      ]
     },
     "metadata": {},
     "output_type": "display_data"
    }
   ],
   "source": [
    "# Evaluate the model on the test set\n",
    "test_loss, test_accuracy = model.evaluate(X_test, y_test)\n",
    "print(f\"Test Loss: {test_loss:.4f}\")\n",
    "print(f\"Test Accuracy: {test_accuracy*100:.2f}%\")\n",
    "\n",
    "# Make predictions on the test set\n",
    "y_pred = model.predict(X_test)\n",
    "y_pred_classes = np.argmax(y_pred, axis=1)\n",
    "\n",
    "# Create the confusion matrix\n",
    "conf_matrix = confusion_matrix(y_test, y_pred_classes)\n",
    "\n",
    "# Plot the confusion matrix\n",
    "plt.figure(figsize=(10, 8))\n",
    "sns.heatmap(conf_matrix, annot=True, fmt='d', cmap='Blues')\n",
    "plt.xlabel('Predicted Label')\n",
    "plt.ylabel('True Label')\n",
    "plt.title('Confusion Matrix')\n",
    "plt.show()"
   ]
  },
  {
   "cell_type": "code",
   "execution_count": null,
   "id": "b3f02bb6-7bcb-4c44-b9ca-1bbee9dfbf31",
   "metadata": {},
   "outputs": [],
   "source": []
  }
 ],
 "metadata": {
  "kernelspec": {
   "display_name": "Python 3 (ipykernel)",
   "language": "python",
   "name": "python3"
  },
  "language_info": {
   "codemirror_mode": {
    "name": "ipython",
    "version": 3
   },
   "file_extension": ".py",
   "mimetype": "text/x-python",
   "name": "python",
   "nbconvert_exporter": "python",
   "pygments_lexer": "ipython3",
   "version": "3.12.3"
  }
 },
 "nbformat": 4,
 "nbformat_minor": 5
}
